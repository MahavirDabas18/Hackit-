{
 "cells": [
  {
   "cell_type": "code",
   "execution_count": 1,
   "id": "ad5e880d",
   "metadata": {},
   "outputs": [],
   "source": [
    "import pandas as pd\n",
    "import numpy as np\n",
    "import matplotlib.pyplot as plt\n",
    "import seaborn as sns\n",
    "import pyibl\n",
    "from tqdm import tqdm\n",
    "from pyibl import similarity\n",
    "from copy import deepcopy"
   ]
  },
  {
   "cell_type": "markdown",
   "id": "c33f49fc",
   "metadata": {},
   "source": [
    "<h1> Reading System Data </h1>"
   ]
  },
  {
   "cell_type": "code",
   "execution_count": 2,
   "id": "48bfbd94",
   "metadata": {},
   "outputs": [],
   "source": [
    "info=pd.read_excel(\"Cyber Attack Modeling Data-Clean.xlsx\", sheet_name=\"System Info\")"
   ]
  },
  {
   "cell_type": "code",
   "execution_count": 3,
   "id": "7ddab212",
   "metadata": {},
   "outputs": [
    {
     "data": {
      "text/html": [
       "<div>\n",
       "<style scoped>\n",
       "    .dataframe tbody tr th:only-of-type {\n",
       "        vertical-align: middle;\n",
       "    }\n",
       "\n",
       "    .dataframe tbody tr th {\n",
       "        vertical-align: top;\n",
       "    }\n",
       "\n",
       "    .dataframe thead th {\n",
       "        text-align: right;\n",
       "    }\n",
       "</style>\n",
       "<table border=\"1\" class=\"dataframe\">\n",
       "  <thead>\n",
       "    <tr style=\"text-align: right;\">\n",
       "      <th></th>\n",
       "      <th>System</th>\n",
       "      <th>Real or Honeypot</th>\n",
       "      <th>OS</th>\n",
       "      <th>Port 1</th>\n",
       "      <th>Port 2</th>\n",
       "      <th>Port 3</th>\n",
       "      <th>Port 4</th>\n",
       "      <th>Service on P1</th>\n",
       "      <th>Service on P2</th>\n",
       "      <th>Service on P3</th>\n",
       "      <th>Service on P4</th>\n",
       "      <th>Vulnerability on Port 1</th>\n",
       "      <th>Vulnerability on Port 2</th>\n",
       "      <th>Vulnerability on Port 3</th>\n",
       "      <th>Vulnerability on Port 4</th>\n",
       "    </tr>\n",
       "  </thead>\n",
       "  <tbody>\n",
       "    <tr>\n",
       "      <th>0</th>\n",
       "      <td>0</td>\n",
       "      <td>Honeypot</td>\n",
       "      <td>Solaris</td>\n",
       "      <td>25/tcp</td>\n",
       "      <td>21/tcp</td>\n",
       "      <td>111/tcp</td>\n",
       "      <td>135/tcp</td>\n",
       "      <td>smtp</td>\n",
       "      <td>ftp</td>\n",
       "      <td>rpcbind</td>\n",
       "      <td>msrpc</td>\n",
       "      <td>directory_harvest</td>\n",
       "      <td>brute_force</td>\n",
       "      <td>DDoS_attack</td>\n",
       "      <td>DoS_attack</td>\n",
       "    </tr>\n",
       "    <tr>\n",
       "      <th>1</th>\n",
       "      <td>1</td>\n",
       "      <td>Honeypot</td>\n",
       "      <td>HP-UX 11i</td>\n",
       "      <td>135/tcp</td>\n",
       "      <td>111/tcp</td>\n",
       "      <td>25/tcp</td>\n",
       "      <td>80/tcp</td>\n",
       "      <td>msrpc</td>\n",
       "      <td>rpcbind</td>\n",
       "      <td>smtp</td>\n",
       "      <td>http</td>\n",
       "      <td>DoS_attack</td>\n",
       "      <td>DDoS_attack</td>\n",
       "      <td>directory_harvest</td>\n",
       "      <td>sql_injection</td>\n",
       "    </tr>\n",
       "    <tr>\n",
       "      <th>2</th>\n",
       "      <td>2</td>\n",
       "      <td>Honeypot</td>\n",
       "      <td>HP-UX 11i</td>\n",
       "      <td>80/tcp</td>\n",
       "      <td>111/tcp</td>\n",
       "      <td>21/tcp</td>\n",
       "      <td>25/tcp</td>\n",
       "      <td>http</td>\n",
       "      <td>rpcbind</td>\n",
       "      <td>ftp</td>\n",
       "      <td>smtp</td>\n",
       "      <td>sql_injection</td>\n",
       "      <td>DDoS_attack</td>\n",
       "      <td>brute_force</td>\n",
       "      <td>directory_harvest</td>\n",
       "    </tr>\n",
       "    <tr>\n",
       "      <th>3</th>\n",
       "      <td>3</td>\n",
       "      <td>Honeypot</td>\n",
       "      <td>Windows Server 2003</td>\n",
       "      <td>111/tcp</td>\n",
       "      <td>21/tcp</td>\n",
       "      <td>135/tcp</td>\n",
       "      <td>80/tcp</td>\n",
       "      <td>rpcbind</td>\n",
       "      <td>ftp</td>\n",
       "      <td>msrpc</td>\n",
       "      <td>http</td>\n",
       "      <td>DDoS_attack</td>\n",
       "      <td>brute_force</td>\n",
       "      <td>DoS_attack</td>\n",
       "      <td>sql_injection</td>\n",
       "    </tr>\n",
       "    <tr>\n",
       "      <th>4</th>\n",
       "      <td>4</td>\n",
       "      <td>Honeypot</td>\n",
       "      <td>HP-UX 11i</td>\n",
       "      <td>80/tcp</td>\n",
       "      <td>21/tcp</td>\n",
       "      <td>111/tcp</td>\n",
       "      <td>25/tcp</td>\n",
       "      <td>http</td>\n",
       "      <td>ftp</td>\n",
       "      <td>rpcbind</td>\n",
       "      <td>smtp</td>\n",
       "      <td>sql_injection</td>\n",
       "      <td>brute_force</td>\n",
       "      <td>DDoS_attack</td>\n",
       "      <td>directory_harvest</td>\n",
       "    </tr>\n",
       "  </tbody>\n",
       "</table>\n",
       "</div>"
      ],
      "text/plain": [
       "   System  Real or Honeypot                   OS   Port 1   Port 2   Port 3  \\\n",
       "0        0         Honeypot              Solaris   25/tcp   21/tcp  111/tcp   \n",
       "1        1         Honeypot            HP-UX 11i  135/tcp  111/tcp   25/tcp   \n",
       "2        2         Honeypot            HP-UX 11i   80/tcp  111/tcp   21/tcp   \n",
       "3        3         Honeypot  Windows Server 2003  111/tcp   21/tcp  135/tcp   \n",
       "4        4         Honeypot            HP-UX 11i   80/tcp   21/tcp  111/tcp   \n",
       "\n",
       "    Port 4 Service on P1 Service on P2 Service on P3 Service on P4  \\\n",
       "0  135/tcp          smtp           ftp       rpcbind         msrpc   \n",
       "1   80/tcp         msrpc       rpcbind          smtp          http   \n",
       "2   25/tcp          http       rpcbind           ftp          smtp   \n",
       "3   80/tcp       rpcbind           ftp         msrpc          http   \n",
       "4   25/tcp          http           ftp       rpcbind          smtp   \n",
       "\n",
       "  Vulnerability on Port 1 Vulnerability on Port 2 Vulnerability on Port 3  \\\n",
       "0       directory_harvest             brute_force             DDoS_attack   \n",
       "1              DoS_attack             DDoS_attack       directory_harvest   \n",
       "2           sql_injection             DDoS_attack             brute_force   \n",
       "3             DDoS_attack             brute_force              DoS_attack   \n",
       "4           sql_injection             brute_force             DDoS_attack   \n",
       "\n",
       "  Vulnerability on Port 4  \n",
       "0              DoS_attack  \n",
       "1           sql_injection  \n",
       "2       directory_harvest  \n",
       "3           sql_injection  \n",
       "4       directory_harvest  "
      ]
     },
     "execution_count": 3,
     "metadata": {},
     "output_type": "execute_result"
    }
   ],
   "source": [
    "info.head()"
   ]
  },
  {
   "cell_type": "markdown",
   "id": "3bc6afe3",
   "metadata": {},
   "source": [
    "<h3> System to Situation </h3>"
   ]
  },
  {
   "cell_type": "code",
   "execution_count": 4,
   "id": "de06c078",
   "metadata": {},
   "outputs": [],
   "source": [
    "system_situation=[] #will store situations of all the systems at any point of time\n",
    "#to get situation of system x at any point of time-- system_situation[x]\n",
    "\n",
    "for i in range(len(info)):\n",
    "    #situation format-[sys_no,exploited,os,(p1,p2,p3,p4),(serv1,serv2,serv3,serv4),(vul1,vul2,vul3,vul4)]\n",
    "    situation=[]\n",
    "    situation.append(info.iloc[i][0]) #sys_number\n",
    "    situation.append(False) #exploitated\n",
    "    situation.append(info.iloc[i][2]) #os\n",
    "    a=info.iloc[i][3] #port1\n",
    "    b=info.iloc[i][4] #port2\n",
    "    c=info.iloc[i][5] #port3\n",
    "    d=info.iloc[i][6] #port4\n",
    "    port=(a,b,c,d)\n",
    "    situation.append(port) #port tuple\n",
    "    a=info.iloc[i][7] #service1\n",
    "    b=info.iloc[i][8] #service2\n",
    "    c=info.iloc[i][9] #service3\n",
    "    d=info.iloc[i][10] #service4\n",
    "    service=(a,b,c,d)\n",
    "    situation.append(service) #service tuple\n",
    "    a=info.iloc[i][11] #vul1\n",
    "    b=info.iloc[i][12] #vul2\n",
    "    c=info.iloc[i][13] #vul3\n",
    "    d=info.iloc[i][14] #vul4\n",
    "    vul=(a,b,c,d)\n",
    "    situation.append(vul) #service tuple\n",
    "    \n",
    "    \n",
    "    #now the situation of a system has been defined-adding it to the system_info list\n",
    "    system_situation.append(situation)"
   ]
  },
  {
   "cell_type": "code",
   "execution_count": 5,
   "id": "1a8e8aa2",
   "metadata": {},
   "outputs": [
    {
     "data": {
      "text/plain": [
       "[39,\n",
       " False,\n",
       " 'Windows Server 2003',\n",
       " ('80/tcp', '135/tcp', '21/tcp', '111/tcp'),\n",
       " ('http', 'msrpc', 'ftp', 'rpcbind'),\n",
       " ('sql_injection', 'DoS_attack', 'brute_force', 'DDoS_attack')]"
      ]
     },
     "execution_count": 5,
     "metadata": {},
     "output_type": "execute_result"
    }
   ],
   "source": [
    "#printing situation of system 39\n",
    "system_situation[39]"
   ]
  },
  {
   "cell_type": "code",
   "execution_count": 8,
   "id": "85603393",
   "metadata": {},
   "outputs": [
    {
     "data": {
      "text/plain": [
       "[4,\n",
       " False,\n",
       " 'HP-UX 11i',\n",
       " ('80/tcp', '21/tcp', '111/tcp', '25/tcp'),\n",
       " ('http', 'ftp', 'rpcbind', 'smtp'),\n",
       " ('sql_injection', 'brute_force', 'DDoS_attack', 'directory_harvest')]"
      ]
     },
     "execution_count": 8,
     "metadata": {},
     "output_type": "execute_result"
    }
   ],
   "source": [
    "#printing situation of system 4\n",
    "system_situation[4]"
   ]
  },
  {
   "cell_type": "markdown",
   "id": "1b884e2d",
   "metadata": {},
   "source": [
    "<h3> System:Real/Honeypot </h3>"
   ]
  },
  {
   "cell_type": "code",
   "execution_count": 9,
   "id": "80c88c4d",
   "metadata": {},
   "outputs": [],
   "source": [
    "real=info[\"Real or Honeypot\"]"
   ]
  },
  {
   "cell_type": "code",
   "execution_count": 10,
   "id": "34518a19",
   "metadata": {},
   "outputs": [],
   "source": [
    "real=np.array(real)"
   ]
  },
  {
   "cell_type": "code",
   "execution_count": 11,
   "id": "fae95a28",
   "metadata": {},
   "outputs": [],
   "source": [
    "def clean(a):\n",
    "    if a==\"Real\":\n",
    "        return True\n",
    "    return False"
   ]
  },
  {
   "cell_type": "code",
   "execution_count": 12,
   "id": "98e7afbb",
   "metadata": {},
   "outputs": [],
   "source": [
    "real=np.array([clean(a) for a in real])"
   ]
  },
  {
   "cell_type": "code",
   "execution_count": 13,
   "id": "e53f4a29",
   "metadata": {},
   "outputs": [
    {
     "data": {
      "text/plain": [
       "array([False, False, False, False, False, False, False, False, False,\n",
       "       False,  True, False, False, False, False,  True, False,  True,\n",
       "       False,  True, False, False, False,  True, False, False, False,\n",
       "        True,  True, False, False, False,  True, False, False,  True,\n",
       "       False,  True, False, False])"
      ]
     },
     "execution_count": 13,
     "metadata": {},
     "output_type": "execute_result"
    }
   ],
   "source": [
    "real #1-real,0-honeypot"
   ]
  },
  {
   "cell_type": "code",
   "execution_count": 14,
   "id": "54cd4d2b",
   "metadata": {},
   "outputs": [
    {
     "data": {
      "text/plain": [
       "False"
      ]
     },
     "execution_count": 14,
     "metadata": {},
     "output_type": "execute_result"
    }
   ],
   "source": [
    "#to check if system x is real-- real[x]\n",
    "real[5]"
   ]
  },
  {
   "cell_type": "markdown",
   "id": "ebc496b5",
   "metadata": {},
   "source": [
    "<h1> Reading Subnet Data </h1>"
   ]
  },
  {
   "cell_type": "code",
   "execution_count": 15,
   "id": "b5250bda",
   "metadata": {},
   "outputs": [],
   "source": [
    "subnet=pd.read_excel(\"Cyber Attack Modeling Data-Clean.xlsx\", sheet_name=\"Subnet-Data\")"
   ]
  },
  {
   "cell_type": "code",
   "execution_count": 16,
   "id": "97389dcd",
   "metadata": {},
   "outputs": [
    {
     "data": {
      "text/html": [
       "<div>\n",
       "<style scoped>\n",
       "    .dataframe tbody tr th:only-of-type {\n",
       "        vertical-align: middle;\n",
       "    }\n",
       "\n",
       "    .dataframe tbody tr th {\n",
       "        vertical-align: top;\n",
       "    }\n",
       "\n",
       "    .dataframe thead th {\n",
       "        text-align: right;\n",
       "    }\n",
       "</style>\n",
       "<table border=\"1\" class=\"dataframe\">\n",
       "  <thead>\n",
       "    <tr style=\"text-align: right;\">\n",
       "      <th></th>\n",
       "      <th>UserID</th>\n",
       "      <th>System Attacked</th>\n",
       "    </tr>\n",
       "  </thead>\n",
       "  <tbody>\n",
       "    <tr>\n",
       "      <th>0</th>\n",
       "      <td>25</td>\n",
       "      <td>4</td>\n",
       "    </tr>\n",
       "    <tr>\n",
       "      <th>1</th>\n",
       "      <td>25</td>\n",
       "      <td>24</td>\n",
       "    </tr>\n",
       "    <tr>\n",
       "      <th>2</th>\n",
       "      <td>25</td>\n",
       "      <td>8</td>\n",
       "    </tr>\n",
       "    <tr>\n",
       "      <th>3</th>\n",
       "      <td>25</td>\n",
       "      <td>5</td>\n",
       "    </tr>\n",
       "    <tr>\n",
       "      <th>4</th>\n",
       "      <td>25</td>\n",
       "      <td>27</td>\n",
       "    </tr>\n",
       "  </tbody>\n",
       "</table>\n",
       "</div>"
      ],
      "text/plain": [
       "   UserID  System Attacked\n",
       "0      25                4\n",
       "1      25               24\n",
       "2      25                8\n",
       "3      25                5\n",
       "4      25               27"
      ]
     },
     "execution_count": 16,
     "metadata": {},
     "output_type": "execute_result"
    }
   ],
   "source": [
    "subnet.head()"
   ]
  },
  {
   "cell_type": "code",
   "execution_count": 17,
   "id": "ccf64a55",
   "metadata": {},
   "outputs": [
    {
     "data": {
      "text/plain": [
       "array([ 25,  27,  29,  30,  31,  33,  35,  38,  42,  46,  48,  49,  51,\n",
       "        54,  55,  58,  61,  63,  65,  66,  67,  73,  74,  79,  89,  96,\n",
       "        97, 100, 102, 103, 105, 108, 110, 112, 115, 117, 119, 120, 121,\n",
       "       126, 127, 131, 135, 136], dtype=int64)"
      ]
     },
     "execution_count": 17,
     "metadata": {},
     "output_type": "execute_result"
    }
   ],
   "source": [
    "users=pd.unique(subnet['UserID'])\n",
    "users"
   ]
  },
  {
   "cell_type": "code",
   "execution_count": 18,
   "id": "3348e5e1",
   "metadata": {},
   "outputs": [
    {
     "data": {
      "text/html": [
       "<div>\n",
       "<style scoped>\n",
       "    .dataframe tbody tr th:only-of-type {\n",
       "        vertical-align: middle;\n",
       "    }\n",
       "\n",
       "    .dataframe tbody tr th {\n",
       "        vertical-align: top;\n",
       "    }\n",
       "\n",
       "    .dataframe thead th {\n",
       "        text-align: right;\n",
       "    }\n",
       "</style>\n",
       "<table border=\"1\" class=\"dataframe\">\n",
       "  <thead>\n",
       "    <tr style=\"text-align: right;\">\n",
       "      <th></th>\n",
       "      <th>UserID</th>\n",
       "      <th>System Attacked</th>\n",
       "    </tr>\n",
       "  </thead>\n",
       "  <tbody>\n",
       "    <tr>\n",
       "      <th>0</th>\n",
       "      <td>25</td>\n",
       "      <td>4</td>\n",
       "    </tr>\n",
       "    <tr>\n",
       "      <th>1</th>\n",
       "      <td>25</td>\n",
       "      <td>24</td>\n",
       "    </tr>\n",
       "    <tr>\n",
       "      <th>2</th>\n",
       "      <td>25</td>\n",
       "      <td>8</td>\n",
       "    </tr>\n",
       "    <tr>\n",
       "      <th>3</th>\n",
       "      <td>25</td>\n",
       "      <td>5</td>\n",
       "    </tr>\n",
       "    <tr>\n",
       "      <th>4</th>\n",
       "      <td>25</td>\n",
       "      <td>27</td>\n",
       "    </tr>\n",
       "    <tr>\n",
       "      <th>5</th>\n",
       "      <td>25</td>\n",
       "      <td>4</td>\n",
       "    </tr>\n",
       "    <tr>\n",
       "      <th>6</th>\n",
       "      <td>25</td>\n",
       "      <td>1</td>\n",
       "    </tr>\n",
       "    <tr>\n",
       "      <th>7</th>\n",
       "      <td>25</td>\n",
       "      <td>13</td>\n",
       "    </tr>\n",
       "    <tr>\n",
       "      <th>8</th>\n",
       "      <td>25</td>\n",
       "      <td>7</td>\n",
       "    </tr>\n",
       "    <tr>\n",
       "      <th>9</th>\n",
       "      <td>25</td>\n",
       "      <td>33</td>\n",
       "    </tr>\n",
       "    <tr>\n",
       "      <th>10</th>\n",
       "      <td>25</td>\n",
       "      <td>33</td>\n",
       "    </tr>\n",
       "    <tr>\n",
       "      <th>11</th>\n",
       "      <td>25</td>\n",
       "      <td>9</td>\n",
       "    </tr>\n",
       "    <tr>\n",
       "      <th>12</th>\n",
       "      <td>25</td>\n",
       "      <td>39</td>\n",
       "    </tr>\n",
       "    <tr>\n",
       "      <th>13</th>\n",
       "      <td>25</td>\n",
       "      <td>6</td>\n",
       "    </tr>\n",
       "    <tr>\n",
       "      <th>14</th>\n",
       "      <td>25</td>\n",
       "      <td>28</td>\n",
       "    </tr>\n",
       "    <tr>\n",
       "      <th>15</th>\n",
       "      <td>25</td>\n",
       "      <td>8</td>\n",
       "    </tr>\n",
       "    <tr>\n",
       "      <th>16</th>\n",
       "      <td>25</td>\n",
       "      <td>3</td>\n",
       "    </tr>\n",
       "    <tr>\n",
       "      <th>17</th>\n",
       "      <td>25</td>\n",
       "      <td>19</td>\n",
       "    </tr>\n",
       "    <tr>\n",
       "      <th>18</th>\n",
       "      <td>25</td>\n",
       "      <td>20</td>\n",
       "    </tr>\n",
       "    <tr>\n",
       "      <th>19</th>\n",
       "      <td>25</td>\n",
       "      <td>21</td>\n",
       "    </tr>\n",
       "  </tbody>\n",
       "</table>\n",
       "</div>"
      ],
      "text/plain": [
       "    UserID  System Attacked\n",
       "0       25                4\n",
       "1       25               24\n",
       "2       25                8\n",
       "3       25                5\n",
       "4       25               27\n",
       "5       25                4\n",
       "6       25                1\n",
       "7       25               13\n",
       "8       25                7\n",
       "9       25               33\n",
       "10      25               33\n",
       "11      25                9\n",
       "12      25               39\n",
       "13      25                6\n",
       "14      25               28\n",
       "15      25                8\n",
       "16      25                3\n",
       "17      25               19\n",
       "18      25               20\n",
       "19      25               21"
      ]
     },
     "execution_count": 18,
     "metadata": {},
     "output_type": "execute_result"
    }
   ],
   "source": [
    "user_data=subnet[subnet[\"UserID\"]==25] \n",
    "user_data #data frame for a particular user"
   ]
  },
  {
   "cell_type": "markdown",
   "id": "e41e49df",
   "metadata": {},
   "source": [
    "<h1> Defining Reward Function </h1>"
   ]
  },
  {
   "cell_type": "code",
   "execution_count": 19,
   "id": "badb73db",
   "metadata": {},
   "outputs": [],
   "source": [
    "def reward_simulation(choice): #choice-situation is a list with a predefined format\n",
    "    if real[choice[0]]: #real system\n",
    "        if choice[1]==False: #not exploited yet\n",
    "            p=np.random.rand() #randomly generates a number between 0 and 1\n",
    "            if p<0.5:\n",
    "                return 5\n",
    "            else:\n",
    "                return 2.5\n",
    "        else: #already exploited\n",
    "            return -10 #to punish choices of real systems which have already been exploited\n",
    "    else: #honeypot\n",
    "        return -5        "
   ]
  },
  {
   "cell_type": "markdown",
   "id": "f220a46e",
   "metadata": {},
   "source": [
    "<h1> Avg Human Score for Subnet Data </h1>"
   ]
  },
  {
   "cell_type": "code",
   "execution_count": 20,
   "id": "25e69a1b",
   "metadata": {},
   "outputs": [
    {
     "name": "stdout",
     "output_type": "stream",
     "text": [
      "Enter the number of times you want to run the simulation: 50\n"
     ]
    }
   ],
   "source": [
    "num=int(input(\"Enter the number of times you want to run the simulation: \"))"
   ]
  },
  {
   "cell_type": "code",
   "execution_count": 21,
   "id": "85b89a81",
   "metadata": {},
   "outputs": [
    {
     "name": "stderr",
     "output_type": "stream",
     "text": [
      "100%|██████████████████████████████████████████████████████████████████████████████████| 50/50 [00:03<00:00, 14.14it/s]\n"
     ]
    }
   ],
   "source": [
    "simulation_score=np.zeros(num) #stores the average score of users in a simulation across all (num) simulations\n",
    "\n",
    "for i in tqdm(range(num)):\n",
    "    score=0 #total score of all users in a simulation\n",
    "    \n",
    "    for user in users: #for each user\n",
    "        \n",
    "        copy_system_situation=deepcopy(system_situation) #copy of original-changes in it won't modify original\n",
    "        \n",
    "        user_data=subnet[subnet[\"UserID\"]==user] \n",
    "        #user_data-data frame for a particular user\n",
    "        for j in range(len(user_data)):\n",
    "            system_attacked=user_data.iloc[j][1]\n",
    "            reward=reward_simulation(copy_system_situation[system_attacked])\n",
    "            if reward==5: #real system exploited\n",
    "                score+=1\n",
    "                copy_system_situation[system_attacked][1]=True #updating the exploited condition\n",
    "    \n",
    "    score=score/len(users) #taking the average score of all the users in the simulation\n",
    "    simulation_score[i]=score"
   ]
  },
  {
   "cell_type": "code",
   "execution_count": 22,
   "id": "3bfe4356",
   "metadata": {},
   "outputs": [
    {
     "data": {
      "text/plain": [
       "array([0.75      , 0.77272727, 0.79545455, 0.77272727, 0.75      ,\n",
       "       0.84090909, 0.70454545, 0.86363636, 0.75      , 0.65909091,\n",
       "       0.75      , 0.88636364, 0.86363636, 0.81818182, 0.90909091,\n",
       "       0.77272727, 0.79545455, 0.75      , 0.72727273, 0.77272727,\n",
       "       0.84090909, 0.84090909, 0.81818182, 0.84090909, 0.68181818,\n",
       "       0.90909091, 0.81818182, 0.79545455, 0.79545455, 0.77272727,\n",
       "       0.93181818, 0.93181818, 0.84090909, 0.81818182, 0.88636364,\n",
       "       0.79545455, 0.86363636, 0.81818182, 0.88636364, 0.68181818,\n",
       "       0.79545455, 0.84090909, 0.65909091, 0.86363636, 0.79545455,\n",
       "       0.97727273, 0.84090909, 0.79545455, 0.77272727, 0.95454545])"
      ]
     },
     "execution_count": 22,
     "metadata": {},
     "output_type": "execute_result"
    }
   ],
   "source": [
    "simulation_score"
   ]
  },
  {
   "cell_type": "code",
   "execution_count": 23,
   "id": "3f688049",
   "metadata": {},
   "outputs": [
    {
     "data": {
      "text/plain": [
       "0.8113636363636363"
      ]
     },
     "execution_count": 23,
     "metadata": {},
     "output_type": "execute_result"
    }
   ],
   "source": [
    "np.mean(simulation_score)"
   ]
  },
  {
   "cell_type": "code",
   "execution_count": null,
   "id": "1d0bf779",
   "metadata": {},
   "outputs": [],
   "source": []
  },
  {
   "cell_type": "code",
   "execution_count": null,
   "id": "040952a6",
   "metadata": {},
   "outputs": [],
   "source": []
  },
  {
   "cell_type": "code",
   "execution_count": null,
   "id": "452a1a5b",
   "metadata": {},
   "outputs": [],
   "source": []
  },
  {
   "cell_type": "code",
   "execution_count": null,
   "id": "1eb5115c",
   "metadata": {},
   "outputs": [],
   "source": []
  }
 ],
 "metadata": {
  "kernelspec": {
   "display_name": "Python 3",
   "language": "python",
   "name": "python3"
  },
  "language_info": {
   "codemirror_mode": {
    "name": "ipython",
    "version": 3
   },
   "file_extension": ".py",
   "mimetype": "text/x-python",
   "name": "python",
   "nbconvert_exporter": "python",
   "pygments_lexer": "ipython3",
   "version": "3.8.8"
  }
 },
 "nbformat": 4,
 "nbformat_minor": 5
}
