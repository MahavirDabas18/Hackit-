{
 "cells": [
  {
   "cell_type": "code",
   "execution_count": 1,
   "id": "078ee7da",
   "metadata": {},
   "outputs": [],
   "source": [
    "import pandas as pd\n",
    "import numpy as np\n",
    "import matplotlib.pyplot as plt\n",
    "import seaborn as sns\n",
    "import pyibl\n",
    "from tqdm import tqdm\n",
    "from pyibl import similarity\n",
    "from copy import deepcopy"
   ]
  },
  {
   "cell_type": "markdown",
   "id": "75a06d71",
   "metadata": {},
   "source": [
    "<h1> Reading System Data </h1>"
   ]
  },
  {
   "cell_type": "code",
   "execution_count": 2,
   "id": "1f24f6fb",
   "metadata": {},
   "outputs": [],
   "source": [
    "info=pd.read_excel(\"Cyber Attack Modeling Data-Clean.xlsx\", sheet_name=\"System Info\")"
   ]
  },
  {
   "cell_type": "code",
   "execution_count": 3,
   "id": "5689ac31",
   "metadata": {
    "scrolled": true
   },
   "outputs": [
    {
     "data": {
      "text/html": [
       "<div>\n",
       "<style scoped>\n",
       "    .dataframe tbody tr th:only-of-type {\n",
       "        vertical-align: middle;\n",
       "    }\n",
       "\n",
       "    .dataframe tbody tr th {\n",
       "        vertical-align: top;\n",
       "    }\n",
       "\n",
       "    .dataframe thead th {\n",
       "        text-align: right;\n",
       "    }\n",
       "</style>\n",
       "<table border=\"1\" class=\"dataframe\">\n",
       "  <thead>\n",
       "    <tr style=\"text-align: right;\">\n",
       "      <th></th>\n",
       "      <th>System</th>\n",
       "      <th>Real or Honeypot</th>\n",
       "      <th>OS</th>\n",
       "      <th>Port 1</th>\n",
       "      <th>Port 2</th>\n",
       "      <th>Port 3</th>\n",
       "      <th>Port 4</th>\n",
       "      <th>Service on P1</th>\n",
       "      <th>Service on P2</th>\n",
       "      <th>Service on P3</th>\n",
       "      <th>Service on P4</th>\n",
       "      <th>Vulnerability on Port 1</th>\n",
       "      <th>Vulnerability on Port 2</th>\n",
       "      <th>Vulnerability on Port 3</th>\n",
       "      <th>Vulnerability on Port 4</th>\n",
       "    </tr>\n",
       "  </thead>\n",
       "  <tbody>\n",
       "    <tr>\n",
       "      <th>0</th>\n",
       "      <td>0</td>\n",
       "      <td>Honeypot</td>\n",
       "      <td>Solaris</td>\n",
       "      <td>25/tcp</td>\n",
       "      <td>21/tcp</td>\n",
       "      <td>111/tcp</td>\n",
       "      <td>135/tcp</td>\n",
       "      <td>smtp</td>\n",
       "      <td>ftp</td>\n",
       "      <td>rpcbind</td>\n",
       "      <td>msrpc</td>\n",
       "      <td>directory_harvest</td>\n",
       "      <td>brute_force</td>\n",
       "      <td>DDoS_attack</td>\n",
       "      <td>DoS_attack</td>\n",
       "    </tr>\n",
       "    <tr>\n",
       "      <th>1</th>\n",
       "      <td>1</td>\n",
       "      <td>Honeypot</td>\n",
       "      <td>HP-UX 11i</td>\n",
       "      <td>135/tcp</td>\n",
       "      <td>111/tcp</td>\n",
       "      <td>25/tcp</td>\n",
       "      <td>80/tcp</td>\n",
       "      <td>msrpc</td>\n",
       "      <td>rpcbind</td>\n",
       "      <td>smtp</td>\n",
       "      <td>http</td>\n",
       "      <td>DoS_attack</td>\n",
       "      <td>DDoS_attack</td>\n",
       "      <td>directory_harvest</td>\n",
       "      <td>sql_injection</td>\n",
       "    </tr>\n",
       "    <tr>\n",
       "      <th>2</th>\n",
       "      <td>2</td>\n",
       "      <td>Honeypot</td>\n",
       "      <td>HP-UX 11i</td>\n",
       "      <td>80/tcp</td>\n",
       "      <td>111/tcp</td>\n",
       "      <td>21/tcp</td>\n",
       "      <td>25/tcp</td>\n",
       "      <td>http</td>\n",
       "      <td>rpcbind</td>\n",
       "      <td>ftp</td>\n",
       "      <td>smtp</td>\n",
       "      <td>sql_injection</td>\n",
       "      <td>DDoS_attack</td>\n",
       "      <td>brute_force</td>\n",
       "      <td>directory_harvest</td>\n",
       "    </tr>\n",
       "    <tr>\n",
       "      <th>3</th>\n",
       "      <td>3</td>\n",
       "      <td>Honeypot</td>\n",
       "      <td>Windows Server 2003</td>\n",
       "      <td>111/tcp</td>\n",
       "      <td>21/tcp</td>\n",
       "      <td>135/tcp</td>\n",
       "      <td>80/tcp</td>\n",
       "      <td>rpcbind</td>\n",
       "      <td>ftp</td>\n",
       "      <td>msrpc</td>\n",
       "      <td>http</td>\n",
       "      <td>DDoS_attack</td>\n",
       "      <td>brute_force</td>\n",
       "      <td>DoS_attack</td>\n",
       "      <td>sql_injection</td>\n",
       "    </tr>\n",
       "    <tr>\n",
       "      <th>4</th>\n",
       "      <td>4</td>\n",
       "      <td>Honeypot</td>\n",
       "      <td>HP-UX 11i</td>\n",
       "      <td>80/tcp</td>\n",
       "      <td>21/tcp</td>\n",
       "      <td>111/tcp</td>\n",
       "      <td>25/tcp</td>\n",
       "      <td>http</td>\n",
       "      <td>ftp</td>\n",
       "      <td>rpcbind</td>\n",
       "      <td>smtp</td>\n",
       "      <td>sql_injection</td>\n",
       "      <td>brute_force</td>\n",
       "      <td>DDoS_attack</td>\n",
       "      <td>directory_harvest</td>\n",
       "    </tr>\n",
       "  </tbody>\n",
       "</table>\n",
       "</div>"
      ],
      "text/plain": [
       "   System  Real or Honeypot                   OS   Port 1   Port 2   Port 3  \\\n",
       "0        0         Honeypot              Solaris   25/tcp   21/tcp  111/tcp   \n",
       "1        1         Honeypot            HP-UX 11i  135/tcp  111/tcp   25/tcp   \n",
       "2        2         Honeypot            HP-UX 11i   80/tcp  111/tcp   21/tcp   \n",
       "3        3         Honeypot  Windows Server 2003  111/tcp   21/tcp  135/tcp   \n",
       "4        4         Honeypot            HP-UX 11i   80/tcp   21/tcp  111/tcp   \n",
       "\n",
       "    Port 4 Service on P1 Service on P2 Service on P3 Service on P4  \\\n",
       "0  135/tcp          smtp           ftp       rpcbind         msrpc   \n",
       "1   80/tcp         msrpc       rpcbind          smtp          http   \n",
       "2   25/tcp          http       rpcbind           ftp          smtp   \n",
       "3   80/tcp       rpcbind           ftp         msrpc          http   \n",
       "4   25/tcp          http           ftp       rpcbind          smtp   \n",
       "\n",
       "  Vulnerability on Port 1 Vulnerability on Port 2 Vulnerability on Port 3  \\\n",
       "0       directory_harvest             brute_force             DDoS_attack   \n",
       "1              DoS_attack             DDoS_attack       directory_harvest   \n",
       "2           sql_injection             DDoS_attack             brute_force   \n",
       "3             DDoS_attack             brute_force              DoS_attack   \n",
       "4           sql_injection             brute_force             DDoS_attack   \n",
       "\n",
       "  Vulnerability on Port 4  \n",
       "0              DoS_attack  \n",
       "1           sql_injection  \n",
       "2       directory_harvest  \n",
       "3           sql_injection  \n",
       "4       directory_harvest  "
      ]
     },
     "execution_count": 3,
     "metadata": {},
     "output_type": "execute_result"
    }
   ],
   "source": [
    "info.head()"
   ]
  },
  {
   "cell_type": "markdown",
   "id": "1b003455",
   "metadata": {},
   "source": [
    "<h3> System to Situation </h3>"
   ]
  },
  {
   "cell_type": "code",
   "execution_count": 4,
   "id": "bf49abb8",
   "metadata": {},
   "outputs": [],
   "source": [
    "system_situation=[] #will store situations of all the systems at any point of time\n",
    "#to get situation of system x at any point of time-- system_situation[x]\n",
    "\n",
    "for i in range(len(info)):\n",
    "    #situation format-[sys_no,exploited,os,(p1,p2,p3,p4),(serv1,serv2,serv3,serv4),(vul1,vul2,vul3,vul4)]\n",
    "    situation=[]\n",
    "    situation.append(info.iloc[i][0]) #sys_number\n",
    "    situation.append(False) #exploitated\n",
    "    situation.append(info.iloc[i][2]) #os\n",
    "    a=info.iloc[i][3] #port1\n",
    "    b=info.iloc[i][4] #port2\n",
    "    c=info.iloc[i][5] #port3\n",
    "    d=info.iloc[i][6] #port4\n",
    "    port=(a,b,c,d)\n",
    "    situation.append(port) #port tuple\n",
    "    a=info.iloc[i][7] #service1\n",
    "    b=info.iloc[i][8] #service2\n",
    "    c=info.iloc[i][9] #service3\n",
    "    d=info.iloc[i][10] #service4\n",
    "    service=(a,b,c,d)\n",
    "    situation.append(service) #service tuple\n",
    "    a=info.iloc[i][11] #vul1\n",
    "    b=info.iloc[i][12] #vul2\n",
    "    c=info.iloc[i][13] #vul3\n",
    "    d=info.iloc[i][14] #vul4\n",
    "    vul=(a,b,c,d)\n",
    "    situation.append(vul) #service tuple\n",
    "    \n",
    "    \n",
    "    #now the situation of a system has been defined-adding it to the system_info list\n",
    "    system_situation.append(situation)"
   ]
  },
  {
   "cell_type": "code",
   "execution_count": 5,
   "id": "6e41f441",
   "metadata": {},
   "outputs": [
    {
     "data": {
      "text/plain": [
       "[39,\n",
       " False,\n",
       " 'Windows Server 2003',\n",
       " ('80/tcp', '135/tcp', '21/tcp', '111/tcp'),\n",
       " ('http', 'msrpc', 'ftp', 'rpcbind'),\n",
       " ('sql_injection', 'DoS_attack', 'brute_force', 'DDoS_attack')]"
      ]
     },
     "execution_count": 5,
     "metadata": {},
     "output_type": "execute_result"
    }
   ],
   "source": [
    "#printing situation of system 39\n",
    "system_situation[39]"
   ]
  },
  {
   "cell_type": "code",
   "execution_count": 6,
   "id": "84ae5e7c",
   "metadata": {
    "scrolled": true
   },
   "outputs": [
    {
     "data": {
      "text/plain": [
       "[4,\n",
       " False,\n",
       " 'HP-UX 11i',\n",
       " ('80/tcp', '21/tcp', '111/tcp', '25/tcp'),\n",
       " ('http', 'ftp', 'rpcbind', 'smtp'),\n",
       " ('sql_injection', 'brute_force', 'DDoS_attack', 'directory_harvest')]"
      ]
     },
     "execution_count": 6,
     "metadata": {},
     "output_type": "execute_result"
    }
   ],
   "source": [
    "#printing situation of system 4\n",
    "system_situation[4]"
   ]
  },
  {
   "cell_type": "code",
   "execution_count": 7,
   "id": "a11937ba",
   "metadata": {},
   "outputs": [],
   "source": [
    "#defining system_situation2- we need to prepopulate with all possible decisions\n",
    "#we need to prepopulate with not only exploitation=False conditions but exploitation=True as well\n",
    "#prepopulation of all possible decisions is done with default utility=10\n",
    "\n",
    "system_situation2=[] \n",
    "#to get situation of system x at any point of time-- system_situation[x]\n",
    "\n",
    "for i in range(len(info)):\n",
    "    #situation format-[sys_no,exploited,os,(p1,p2,p3,p4),(serv1,serv2,serv3,serv4),(vul1,vul2,vul3,vul4)]\n",
    "    situation=[]\n",
    "    situation.append(info.iloc[i][0]) #sys_number\n",
    "    situation.append(True) #exploited\n",
    "    situation.append(info.iloc[i][2]) #os\n",
    "    a=info.iloc[i][3] #port1\n",
    "    b=info.iloc[i][4] #port2\n",
    "    c=info.iloc[i][5] #port3\n",
    "    d=info.iloc[i][6] #port4\n",
    "    port=(a,b,c,d)\n",
    "    situation.append(port) #port tuple\n",
    "    a=info.iloc[i][7] #service1\n",
    "    b=info.iloc[i][8] #service2\n",
    "    c=info.iloc[i][9] #service3\n",
    "    d=info.iloc[i][10] #service4\n",
    "    service=(a,b,c,d)\n",
    "    situation.append(service) #service tuple\n",
    "    a=info.iloc[i][11] #vul1\n",
    "    b=info.iloc[i][12] #vul2\n",
    "    c=info.iloc[i][13] #vul3\n",
    "    d=info.iloc[i][14] #vul4\n",
    "    vul=(a,b,c,d)\n",
    "    situation.append(vul) #service tuple\n",
    "    \n",
    "    \n",
    "    #now the situation of a system has been defined-adding it to the system_info list\n",
    "    system_situation2.append(situation)"
   ]
  },
  {
   "cell_type": "code",
   "execution_count": 8,
   "id": "4127950c",
   "metadata": {},
   "outputs": [
    {
     "data": {
      "text/plain": [
       "[4,\n",
       " True,\n",
       " 'HP-UX 11i',\n",
       " ('80/tcp', '21/tcp', '111/tcp', '25/tcp'),\n",
       " ('http', 'ftp', 'rpcbind', 'smtp'),\n",
       " ('sql_injection', 'brute_force', 'DDoS_attack', 'directory_harvest')]"
      ]
     },
     "execution_count": 8,
     "metadata": {},
     "output_type": "execute_result"
    }
   ],
   "source": [
    "system_situation2[4]"
   ]
  },
  {
   "cell_type": "code",
   "execution_count": 9,
   "id": "5333582b",
   "metadata": {},
   "outputs": [
    {
     "data": {
      "text/plain": [
       "[4,\n",
       " False,\n",
       " 'HP-UX 11i',\n",
       " ('80/tcp', '21/tcp', '111/tcp', '25/tcp'),\n",
       " ('http', 'ftp', 'rpcbind', 'smtp'),\n",
       " ('sql_injection', 'brute_force', 'DDoS_attack', 'directory_harvest')]"
      ]
     },
     "execution_count": 9,
     "metadata": {},
     "output_type": "execute_result"
    }
   ],
   "source": [
    "system_situation[4]"
   ]
  },
  {
   "cell_type": "markdown",
   "id": "f6c93139",
   "metadata": {},
   "source": [
    "<h3> System:Real/Honeypot </h3>"
   ]
  },
  {
   "cell_type": "code",
   "execution_count": 10,
   "id": "5d7f04dd",
   "metadata": {},
   "outputs": [],
   "source": [
    "real=info[\"Real or Honeypot\"]"
   ]
  },
  {
   "cell_type": "code",
   "execution_count": 11,
   "id": "bada7497",
   "metadata": {},
   "outputs": [],
   "source": [
    "real=np.array(real)"
   ]
  },
  {
   "cell_type": "code",
   "execution_count": 12,
   "id": "4088974a",
   "metadata": {},
   "outputs": [],
   "source": [
    "def clean(a):\n",
    "    if a==\"Real\":\n",
    "        return True\n",
    "    return False"
   ]
  },
  {
   "cell_type": "code",
   "execution_count": 13,
   "id": "3a27253b",
   "metadata": {},
   "outputs": [],
   "source": [
    "real=np.array([clean(a) for a in real])"
   ]
  },
  {
   "cell_type": "code",
   "execution_count": 14,
   "id": "2abbac48",
   "metadata": {},
   "outputs": [
    {
     "data": {
      "text/plain": [
       "array([False, False, False, False, False, False, False, False, False,\n",
       "       False,  True, False, False, False, False,  True, False,  True,\n",
       "       False,  True, False, False, False,  True, False, False, False,\n",
       "        True,  True, False, False, False,  True, False, False,  True,\n",
       "       False,  True, False, False])"
      ]
     },
     "execution_count": 14,
     "metadata": {},
     "output_type": "execute_result"
    }
   ],
   "source": [
    "real #1-real,0-honeypot"
   ]
  },
  {
   "cell_type": "code",
   "execution_count": 15,
   "id": "14aea246",
   "metadata": {},
   "outputs": [
    {
     "data": {
      "text/plain": [
       "False"
      ]
     },
     "execution_count": 15,
     "metadata": {},
     "output_type": "execute_result"
    }
   ],
   "source": [
    "#to check if system x is real-- real[x]\n",
    "real[5]"
   ]
  },
  {
   "cell_type": "markdown",
   "id": "a2511111",
   "metadata": {},
   "source": [
    "<h1> Reading Subnet Data </h1>"
   ]
  },
  {
   "cell_type": "code",
   "execution_count": 16,
   "id": "1c590b90",
   "metadata": {},
   "outputs": [],
   "source": [
    "subnet=pd.read_excel(\"Cyber Attack Modeling Data-Clean.xlsx\", sheet_name=\"Subnet-Data\")"
   ]
  },
  {
   "cell_type": "code",
   "execution_count": 17,
   "id": "3816743c",
   "metadata": {
    "scrolled": true
   },
   "outputs": [
    {
     "data": {
      "text/html": [
       "<div>\n",
       "<style scoped>\n",
       "    .dataframe tbody tr th:only-of-type {\n",
       "        vertical-align: middle;\n",
       "    }\n",
       "\n",
       "    .dataframe tbody tr th {\n",
       "        vertical-align: top;\n",
       "    }\n",
       "\n",
       "    .dataframe thead th {\n",
       "        text-align: right;\n",
       "    }\n",
       "</style>\n",
       "<table border=\"1\" class=\"dataframe\">\n",
       "  <thead>\n",
       "    <tr style=\"text-align: right;\">\n",
       "      <th></th>\n",
       "      <th>UserID</th>\n",
       "      <th>System Attacked</th>\n",
       "    </tr>\n",
       "  </thead>\n",
       "  <tbody>\n",
       "    <tr>\n",
       "      <th>0</th>\n",
       "      <td>25</td>\n",
       "      <td>4</td>\n",
       "    </tr>\n",
       "    <tr>\n",
       "      <th>1</th>\n",
       "      <td>25</td>\n",
       "      <td>24</td>\n",
       "    </tr>\n",
       "    <tr>\n",
       "      <th>2</th>\n",
       "      <td>25</td>\n",
       "      <td>8</td>\n",
       "    </tr>\n",
       "    <tr>\n",
       "      <th>3</th>\n",
       "      <td>25</td>\n",
       "      <td>5</td>\n",
       "    </tr>\n",
       "    <tr>\n",
       "      <th>4</th>\n",
       "      <td>25</td>\n",
       "      <td>27</td>\n",
       "    </tr>\n",
       "  </tbody>\n",
       "</table>\n",
       "</div>"
      ],
      "text/plain": [
       "   UserID  System Attacked\n",
       "0      25                4\n",
       "1      25               24\n",
       "2      25                8\n",
       "3      25                5\n",
       "4      25               27"
      ]
     },
     "execution_count": 17,
     "metadata": {},
     "output_type": "execute_result"
    }
   ],
   "source": [
    "subnet.head()"
   ]
  },
  {
   "cell_type": "code",
   "execution_count": 19,
   "id": "1e36e53a",
   "metadata": {
    "scrolled": true
   },
   "outputs": [
    {
     "data": {
      "text/plain": [
       "array([ 25,  27,  29,  30,  31,  33,  35,  38,  42,  46,  48,  49,  51,\n",
       "        54,  55,  58,  61,  63,  65,  66,  67,  73,  74,  79,  89,  96,\n",
       "        97, 100, 102, 103, 105, 108, 110, 112, 115, 117, 119, 120, 121,\n",
       "       126, 127, 131, 135, 136], dtype=int64)"
      ]
     },
     "execution_count": 19,
     "metadata": {},
     "output_type": "execute_result"
    }
   ],
   "source": [
    "users=pd.unique(subnet['UserID'])\n",
    "users"
   ]
  },
  {
   "cell_type": "code",
   "execution_count": 20,
   "id": "bf583421",
   "metadata": {},
   "outputs": [
    {
     "data": {
      "text/html": [
       "<div>\n",
       "<style scoped>\n",
       "    .dataframe tbody tr th:only-of-type {\n",
       "        vertical-align: middle;\n",
       "    }\n",
       "\n",
       "    .dataframe tbody tr th {\n",
       "        vertical-align: top;\n",
       "    }\n",
       "\n",
       "    .dataframe thead th {\n",
       "        text-align: right;\n",
       "    }\n",
       "</style>\n",
       "<table border=\"1\" class=\"dataframe\">\n",
       "  <thead>\n",
       "    <tr style=\"text-align: right;\">\n",
       "      <th></th>\n",
       "      <th>UserID</th>\n",
       "      <th>System Attacked</th>\n",
       "    </tr>\n",
       "  </thead>\n",
       "  <tbody>\n",
       "    <tr>\n",
       "      <th>0</th>\n",
       "      <td>25</td>\n",
       "      <td>4</td>\n",
       "    </tr>\n",
       "    <tr>\n",
       "      <th>1</th>\n",
       "      <td>25</td>\n",
       "      <td>24</td>\n",
       "    </tr>\n",
       "    <tr>\n",
       "      <th>2</th>\n",
       "      <td>25</td>\n",
       "      <td>8</td>\n",
       "    </tr>\n",
       "    <tr>\n",
       "      <th>3</th>\n",
       "      <td>25</td>\n",
       "      <td>5</td>\n",
       "    </tr>\n",
       "    <tr>\n",
       "      <th>4</th>\n",
       "      <td>25</td>\n",
       "      <td>27</td>\n",
       "    </tr>\n",
       "    <tr>\n",
       "      <th>5</th>\n",
       "      <td>25</td>\n",
       "      <td>4</td>\n",
       "    </tr>\n",
       "    <tr>\n",
       "      <th>6</th>\n",
       "      <td>25</td>\n",
       "      <td>1</td>\n",
       "    </tr>\n",
       "    <tr>\n",
       "      <th>7</th>\n",
       "      <td>25</td>\n",
       "      <td>13</td>\n",
       "    </tr>\n",
       "    <tr>\n",
       "      <th>8</th>\n",
       "      <td>25</td>\n",
       "      <td>7</td>\n",
       "    </tr>\n",
       "    <tr>\n",
       "      <th>9</th>\n",
       "      <td>25</td>\n",
       "      <td>33</td>\n",
       "    </tr>\n",
       "    <tr>\n",
       "      <th>10</th>\n",
       "      <td>25</td>\n",
       "      <td>33</td>\n",
       "    </tr>\n",
       "    <tr>\n",
       "      <th>11</th>\n",
       "      <td>25</td>\n",
       "      <td>9</td>\n",
       "    </tr>\n",
       "    <tr>\n",
       "      <th>12</th>\n",
       "      <td>25</td>\n",
       "      <td>39</td>\n",
       "    </tr>\n",
       "    <tr>\n",
       "      <th>13</th>\n",
       "      <td>25</td>\n",
       "      <td>6</td>\n",
       "    </tr>\n",
       "    <tr>\n",
       "      <th>14</th>\n",
       "      <td>25</td>\n",
       "      <td>28</td>\n",
       "    </tr>\n",
       "    <tr>\n",
       "      <th>15</th>\n",
       "      <td>25</td>\n",
       "      <td>8</td>\n",
       "    </tr>\n",
       "    <tr>\n",
       "      <th>16</th>\n",
       "      <td>25</td>\n",
       "      <td>3</td>\n",
       "    </tr>\n",
       "    <tr>\n",
       "      <th>17</th>\n",
       "      <td>25</td>\n",
       "      <td>19</td>\n",
       "    </tr>\n",
       "    <tr>\n",
       "      <th>18</th>\n",
       "      <td>25</td>\n",
       "      <td>20</td>\n",
       "    </tr>\n",
       "    <tr>\n",
       "      <th>19</th>\n",
       "      <td>25</td>\n",
       "      <td>21</td>\n",
       "    </tr>\n",
       "  </tbody>\n",
       "</table>\n",
       "</div>"
      ],
      "text/plain": [
       "    UserID  System Attacked\n",
       "0       25                4\n",
       "1       25               24\n",
       "2       25                8\n",
       "3       25                5\n",
       "4       25               27\n",
       "5       25                4\n",
       "6       25                1\n",
       "7       25               13\n",
       "8       25                7\n",
       "9       25               33\n",
       "10      25               33\n",
       "11      25                9\n",
       "12      25               39\n",
       "13      25                6\n",
       "14      25               28\n",
       "15      25                8\n",
       "16      25                3\n",
       "17      25               19\n",
       "18      25               20\n",
       "19      25               21"
      ]
     },
     "execution_count": 20,
     "metadata": {},
     "output_type": "execute_result"
    }
   ],
   "source": [
    "user_data=subnet[subnet[\"UserID\"]==25] \n",
    "user_data #data frame for a particular user\n",
    "user_data"
   ]
  },
  {
   "cell_type": "code",
   "execution_count": null,
   "id": "f20b8363",
   "metadata": {},
   "outputs": [],
   "source": []
  },
  {
   "cell_type": "code",
   "execution_count": null,
   "id": "0ac9cda9",
   "metadata": {},
   "outputs": [],
   "source": []
  },
  {
   "cell_type": "code",
   "execution_count": null,
   "id": "a8efafec",
   "metadata": {},
   "outputs": [],
   "source": []
  },
  {
   "cell_type": "markdown",
   "id": "043b5a7b",
   "metadata": {},
   "source": [
    "<h1> pyIBL Simulation </h1>"
   ]
  },
  {
   "cell_type": "markdown",
   "id": "782c7a97",
   "metadata": {},
   "source": [
    "<h3> Utilities </h3>"
   ]
  },
  {
   "cell_type": "code",
   "execution_count": 21,
   "id": "b82e390b",
   "metadata": {},
   "outputs": [],
   "source": [
    "def reward_simulation(choice): #choice-situation is a list with a predefined format\n",
    "    if real[choice[0]]: #real system\n",
    "        if choice[1]==False: #not exploited yet\n",
    "            p=np.random.rand() #randomly generates a number between 0 and 1\n",
    "            if p<0.5:\n",
    "                return 5\n",
    "            else:\n",
    "                return 2.5\n",
    "        else: #already exploited\n",
    "            return -10 #to punish choices of real systems which have already been exploited\n",
    "    else: #honeypot\n",
    "        return -5        "
   ]
  },
  {
   "cell_type": "code",
   "execution_count": 22,
   "id": "de4ce83d",
   "metadata": {},
   "outputs": [],
   "source": [
    "def my_similarity(a,b): #custom similariry function for port list, services list and vulnerability list\n",
    "    #scale=len(a)\n",
    "    a=set(a)\n",
    "    b=set(b)\n",
    "    sim=len(np.union(a,b))/len(a)\n",
    "    return sim"
   ]
  },
  {
   "cell_type": "code",
   "execution_count": 23,
   "id": "5803c683",
   "metadata": {},
   "outputs": [],
   "source": [
    "#situation format-[sys_no,exploited,os,[p1,p2,p3,p4],[serv1,serv2,serv3,serv4],[vul1,vul2,vul3,vul4]]\n",
    "attributes=[\"system_number\",\"exploited\",\"os\",\"ports\",\"services\",\"vulnerabilities\"]"
   ]
  },
  {
   "cell_type": "code",
   "execution_count": 24,
   "id": "62d006dd",
   "metadata": {},
   "outputs": [],
   "source": [
    "#defining the similarity for the attributes as my custom similarity\n",
    "similarity(my_similarity,\"ports\")\n",
    "similarity(my_similarity,\"services\")\n",
    "similarity(my_similarity,\"vulnerabilities\")"
   ]
  },
  {
   "cell_type": "markdown",
   "id": "ccac1c4d",
   "metadata": {},
   "source": [
    "<h3> Defining Agent </h3>"
   ]
  },
  {
   "cell_type": "code",
   "execution_count": 25,
   "id": "390716a8",
   "metadata": {},
   "outputs": [],
   "source": [
    "a = pyibl.Agent(\"Hackit\",attributes,noise=0.25,decay=0.5,mismatch_penalty=1) #defining the agent"
   ]
  },
  {
   "cell_type": "markdown",
   "id": "716069eb",
   "metadata": {},
   "source": [
    "<h3> Simulation </h3>"
   ]
  },
  {
   "cell_type": "code",
   "execution_count": null,
   "id": "35c3e1f0",
   "metadata": {},
   "outputs": [],
   "source": []
  },
  {
   "cell_type": "code",
   "execution_count": 30,
   "id": "5a2f8975",
   "metadata": {},
   "outputs": [
    {
     "name": "stdout",
     "output_type": "stream",
     "text": [
      "Enter the number of times you want to run the simulation: 50\n"
     ]
    }
   ],
   "source": [
    "num=int(input(\"Enter the number of times you want to run the simulation: \"))"
   ]
  },
  {
   "cell_type": "code",
   "execution_count": 39,
   "id": "ac1ee904",
   "metadata": {},
   "outputs": [
    {
     "name": "stderr",
     "output_type": "stream",
     "text": [
      "100%|██████████████████████████████████████████████████████████████████████████████████| 50/50 [07:33<00:00,  9.07s/it]\n"
     ]
    }
   ],
   "source": [
    "simulation_score=np.zeros(num) #stores the average score of users in a simulation across all (num) simulations\n",
    "\n",
    "for i in tqdm(range(num)):\n",
    "    score=0 #total score of all users in a simulation\n",
    "    \n",
    "    for user in users: #for each user\n",
    "        \n",
    "        a.reset() #resetting agent memory before each user begins\n",
    "        copy_system_situation=deepcopy(system_situation) #copy of original-changes in it won't modify original\n",
    "        copy_system_situation2=deepcopy(system_situation2) #copy of original-changes in it won't modify original\n",
    "        \n",
    "        \n",
    "        #prepopulating all decisions with exploitation=False and Default Utility=10\n",
    "        for j in range(len(copy_system_situation)):\n",
    "            utility=10 #default utility\n",
    "            a.populate(utility,copy_system_situation[j])\n",
    "        \n",
    "        #prepopulating all decisions with exploitation=True and Default Utility=10\n",
    "        for j in range(len(copy_system_situation2)):\n",
    "            utility=10 #default utility\n",
    "            a.populate(utility,copy_system_situation2[j])\n",
    "            \n",
    "        \n",
    "        #now prepopulation of user instances has been done\n",
    "        #simulating pyibl choices-number of choices to be made same as the number of instances prepopulated\n",
    "        for j in range(len(user_data)):\n",
    "            choice=a.choose(copy_system_situation[0],copy_system_situation[1],copy_system_situation[2],copy_system_situation[3],\n",
    "                            copy_system_situation[4],copy_system_situation[5],copy_system_situation[6],copy_system_situation[7],\n",
    "                            copy_system_situation[8],copy_system_situation[9],copy_system_situation[10],copy_system_situation[11],\n",
    "                            copy_system_situation[12],copy_system_situation[13],copy_system_situation[14],copy_system_situation[15],\n",
    "                            copy_system_situation[16],copy_system_situation[17],copy_system_situation[18],copy_system_situation[19],\n",
    "                            copy_system_situation[20],copy_system_situation[21],copy_system_situation[22],copy_system_situation[23],\n",
    "                            copy_system_situation[24],copy_system_situation[25],copy_system_situation[26],copy_system_situation[27],\n",
    "                            copy_system_situation[28],copy_system_situation[29],copy_system_situation[30],copy_system_situation[31],\n",
    "                            copy_system_situation[32],copy_system_situation[33],copy_system_situation[34],copy_system_situation[35],\n",
    "                            copy_system_situation[36],copy_system_situation[37],copy_system_situation[38],copy_system_situation[39])\n",
    "            \n",
    "            reward=reward_simulation(choice)\n",
    "            a.respond(reward)\n",
    "            \n",
    "            if reward==5: #real system exploited\n",
    "                score+=1\n",
    "                system_attacked=choice[0]\n",
    "                copy_system_situation[system_attacked][1]=True #updating the exploited condition\n",
    "    \n",
    "    score=score/len(users) #taking the average score of all the users in the simulation\n",
    "    simulation_score[i]=score"
   ]
  },
  {
   "cell_type": "code",
   "execution_count": 40,
   "id": "fd6e8d98",
   "metadata": {},
   "outputs": [
    {
     "data": {
      "text/plain": [
       "array([2.54545455, 2.43181818, 2.02272727, 2.31818182, 2.34090909,\n",
       "       2.40909091, 3.04545455, 2.5       , 2.43181818, 2.18181818,\n",
       "       2.20454545, 2.52272727, 2.36363636, 2.40909091, 2.31818182,\n",
       "       2.06818182, 2.40909091, 2.56818182, 2.54545455, 2.36363636,\n",
       "       2.34090909, 2.20454545, 2.61363636, 2.65909091, 2.75      ,\n",
       "       2.43181818, 2.59090909, 2.56818182, 2.40909091, 2.31818182,\n",
       "       2.27272727, 2.34090909, 2.5       , 2.52272727, 2.63636364,\n",
       "       2.13636364, 2.47727273, 2.56818182, 2.15909091, 2.22727273,\n",
       "       2.5       , 2.59090909, 2.61363636, 2.27272727, 2.22727273,\n",
       "       2.36363636, 2.47727273, 2.54545455, 2.59090909, 2.54545455])"
      ]
     },
     "execution_count": 40,
     "metadata": {},
     "output_type": "execute_result"
    }
   ],
   "source": [
    "simulation_score"
   ]
  },
  {
   "cell_type": "code",
   "execution_count": 41,
   "id": "725f7d41",
   "metadata": {},
   "outputs": [
    {
     "data": {
      "text/plain": [
       "2.429090909090909"
      ]
     },
     "execution_count": 41,
     "metadata": {},
     "output_type": "execute_result"
    }
   ],
   "source": [
    "np.mean(simulation_score)"
   ]
  },
  {
   "cell_type": "code",
   "execution_count": null,
   "id": "eb9aefcd",
   "metadata": {},
   "outputs": [],
   "source": []
  },
  {
   "cell_type": "code",
   "execution_count": null,
   "id": "d81dc108",
   "metadata": {},
   "outputs": [],
   "source": []
  }
 ],
 "metadata": {
  "kernelspec": {
   "display_name": "Python 3",
   "language": "python",
   "name": "python3"
  },
  "language_info": {
   "codemirror_mode": {
    "name": "ipython",
    "version": 3
   },
   "file_extension": ".py",
   "mimetype": "text/x-python",
   "name": "python",
   "nbconvert_exporter": "python",
   "pygments_lexer": "ipython3",
   "version": "3.8.8"
  }
 },
 "nbformat": 4,
 "nbformat_minor": 5
}
