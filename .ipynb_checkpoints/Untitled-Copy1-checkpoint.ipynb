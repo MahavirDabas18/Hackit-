{
 "cells": [
  {
   "cell_type": "code",
   "execution_count": 1,
   "id": "8c74a727",
   "metadata": {},
   "outputs": [],
   "source": [
    "import pandas as pd\n",
    "import numpy as np\n",
    "import matplotlib.pyplot as plt\n",
    "import seaborn as sns\n",
    "import pyibl\n",
    "from tqdm import tqdm\n",
    "from pyibl import similarity\n",
    "from copy import deepcopy"
   ]
  },
  {
   "cell_type": "markdown",
   "id": "4dcd6aac",
   "metadata": {},
   "source": [
    "<h1> Reading System Data </h1>"
   ]
  },
  {
   "cell_type": "code",
   "execution_count": 2,
   "id": "e71ebca4",
   "metadata": {},
   "outputs": [],
   "source": [
    "info=pd.read_excel(\"Cyber Attack Modeling Data-Clean.xlsx\", sheet_name=\"System Info\")"
   ]
  },
  {
   "cell_type": "code",
   "execution_count": 3,
   "id": "5635acc6",
   "metadata": {},
   "outputs": [
    {
     "data": {
      "text/html": [
       "<div>\n",
       "<style scoped>\n",
       "    .dataframe tbody tr th:only-of-type {\n",
       "        vertical-align: middle;\n",
       "    }\n",
       "\n",
       "    .dataframe tbody tr th {\n",
       "        vertical-align: top;\n",
       "    }\n",
       "\n",
       "    .dataframe thead th {\n",
       "        text-align: right;\n",
       "    }\n",
       "</style>\n",
       "<table border=\"1\" class=\"dataframe\">\n",
       "  <thead>\n",
       "    <tr style=\"text-align: right;\">\n",
       "      <th></th>\n",
       "      <th>System</th>\n",
       "      <th>Real or Honeypot</th>\n",
       "      <th>OS</th>\n",
       "      <th>Port 1</th>\n",
       "      <th>Port 2</th>\n",
       "      <th>Port 3</th>\n",
       "      <th>Port 4</th>\n",
       "      <th>Service on P1</th>\n",
       "      <th>Service on P2</th>\n",
       "      <th>Service on P3</th>\n",
       "      <th>Service on P4</th>\n",
       "      <th>Vulnerability on Port 1</th>\n",
       "      <th>Vulnerability on Port 2</th>\n",
       "      <th>Vulnerability on Port 3</th>\n",
       "      <th>Vulnerability on Port 4</th>\n",
       "    </tr>\n",
       "  </thead>\n",
       "  <tbody>\n",
       "    <tr>\n",
       "      <th>0</th>\n",
       "      <td>0</td>\n",
       "      <td>Honeypot</td>\n",
       "      <td>Solaris</td>\n",
       "      <td>25/tcp</td>\n",
       "      <td>21/tcp</td>\n",
       "      <td>111/tcp</td>\n",
       "      <td>135/tcp</td>\n",
       "      <td>smtp</td>\n",
       "      <td>ftp</td>\n",
       "      <td>rpcbind</td>\n",
       "      <td>msrpc</td>\n",
       "      <td>directory_harvest</td>\n",
       "      <td>brute_force</td>\n",
       "      <td>DDoS_attack</td>\n",
       "      <td>DoS_attack</td>\n",
       "    </tr>\n",
       "    <tr>\n",
       "      <th>1</th>\n",
       "      <td>1</td>\n",
       "      <td>Honeypot</td>\n",
       "      <td>HP-UX 11i</td>\n",
       "      <td>135/tcp</td>\n",
       "      <td>111/tcp</td>\n",
       "      <td>25/tcp</td>\n",
       "      <td>80/tcp</td>\n",
       "      <td>msrpc</td>\n",
       "      <td>rpcbind</td>\n",
       "      <td>smtp</td>\n",
       "      <td>http</td>\n",
       "      <td>DoS_attack</td>\n",
       "      <td>DDoS_attack</td>\n",
       "      <td>directory_harvest</td>\n",
       "      <td>sql_injection</td>\n",
       "    </tr>\n",
       "    <tr>\n",
       "      <th>2</th>\n",
       "      <td>2</td>\n",
       "      <td>Honeypot</td>\n",
       "      <td>HP-UX 11i</td>\n",
       "      <td>80/tcp</td>\n",
       "      <td>111/tcp</td>\n",
       "      <td>21/tcp</td>\n",
       "      <td>25/tcp</td>\n",
       "      <td>http</td>\n",
       "      <td>rpcbind</td>\n",
       "      <td>ftp</td>\n",
       "      <td>smtp</td>\n",
       "      <td>sql_injection</td>\n",
       "      <td>DDoS_attack</td>\n",
       "      <td>brute_force</td>\n",
       "      <td>directory_harvest</td>\n",
       "    </tr>\n",
       "    <tr>\n",
       "      <th>3</th>\n",
       "      <td>3</td>\n",
       "      <td>Honeypot</td>\n",
       "      <td>Windows Server 2003</td>\n",
       "      <td>111/tcp</td>\n",
       "      <td>21/tcp</td>\n",
       "      <td>135/tcp</td>\n",
       "      <td>80/tcp</td>\n",
       "      <td>rpcbind</td>\n",
       "      <td>ftp</td>\n",
       "      <td>msrpc</td>\n",
       "      <td>http</td>\n",
       "      <td>DDoS_attack</td>\n",
       "      <td>brute_force</td>\n",
       "      <td>DoS_attack</td>\n",
       "      <td>sql_injection</td>\n",
       "    </tr>\n",
       "    <tr>\n",
       "      <th>4</th>\n",
       "      <td>4</td>\n",
       "      <td>Honeypot</td>\n",
       "      <td>HP-UX 11i</td>\n",
       "      <td>80/tcp</td>\n",
       "      <td>21/tcp</td>\n",
       "      <td>111/tcp</td>\n",
       "      <td>25/tcp</td>\n",
       "      <td>http</td>\n",
       "      <td>ftp</td>\n",
       "      <td>rpcbind</td>\n",
       "      <td>smtp</td>\n",
       "      <td>sql_injection</td>\n",
       "      <td>brute_force</td>\n",
       "      <td>DDoS_attack</td>\n",
       "      <td>directory_harvest</td>\n",
       "    </tr>\n",
       "  </tbody>\n",
       "</table>\n",
       "</div>"
      ],
      "text/plain": [
       "   System  Real or Honeypot                   OS   Port 1   Port 2   Port 3  \\\n",
       "0        0         Honeypot              Solaris   25/tcp   21/tcp  111/tcp   \n",
       "1        1         Honeypot            HP-UX 11i  135/tcp  111/tcp   25/tcp   \n",
       "2        2         Honeypot            HP-UX 11i   80/tcp  111/tcp   21/tcp   \n",
       "3        3         Honeypot  Windows Server 2003  111/tcp   21/tcp  135/tcp   \n",
       "4        4         Honeypot            HP-UX 11i   80/tcp   21/tcp  111/tcp   \n",
       "\n",
       "    Port 4 Service on P1 Service on P2 Service on P3 Service on P4  \\\n",
       "0  135/tcp          smtp           ftp       rpcbind         msrpc   \n",
       "1   80/tcp         msrpc       rpcbind          smtp          http   \n",
       "2   25/tcp          http       rpcbind           ftp          smtp   \n",
       "3   80/tcp       rpcbind           ftp         msrpc          http   \n",
       "4   25/tcp          http           ftp       rpcbind          smtp   \n",
       "\n",
       "  Vulnerability on Port 1 Vulnerability on Port 2 Vulnerability on Port 3  \\\n",
       "0       directory_harvest             brute_force             DDoS_attack   \n",
       "1              DoS_attack             DDoS_attack       directory_harvest   \n",
       "2           sql_injection             DDoS_attack             brute_force   \n",
       "3             DDoS_attack             brute_force              DoS_attack   \n",
       "4           sql_injection             brute_force             DDoS_attack   \n",
       "\n",
       "  Vulnerability on Port 4  \n",
       "0              DoS_attack  \n",
       "1           sql_injection  \n",
       "2       directory_harvest  \n",
       "3           sql_injection  \n",
       "4       directory_harvest  "
      ]
     },
     "execution_count": 3,
     "metadata": {},
     "output_type": "execute_result"
    }
   ],
   "source": [
    "info.head()"
   ]
  },
  {
   "cell_type": "markdown",
   "id": "68a15b55",
   "metadata": {},
   "source": [
    "<h3> System to Situation </h3>"
   ]
  },
  {
   "cell_type": "code",
   "execution_count": 4,
   "id": "b3c3c158",
   "metadata": {},
   "outputs": [],
   "source": [
    "system_situation=[] #will store situations of all the systems at any point of time\n",
    "#to get situation of system x at any point of time-- system_situation[x]\n",
    "\n",
    "for i in range(len(info)):\n",
    "    #situation format-[sys_no,exploited,os,(p1,p2,p3,p4),(serv1,serv2,serv3,serv4),(vul1,vul2,vul3,vul4)]\n",
    "    situation=[]\n",
    "    situation.append(info.iloc[i][0]) #sys_number\n",
    "    situation.append(False) #exploitated\n",
    "    situation.append(info.iloc[i][2]) #os\n",
    "    a=info.iloc[i][3] #port1\n",
    "    b=info.iloc[i][4] #port2\n",
    "    c=info.iloc[i][5] #port3\n",
    "    d=info.iloc[i][6] #port4\n",
    "    port=(a,b,c,d)\n",
    "    situation.append(port) #port tuple\n",
    "    a=info.iloc[i][7] #service1\n",
    "    b=info.iloc[i][8] #service2\n",
    "    c=info.iloc[i][9] #service3\n",
    "    d=info.iloc[i][10] #service4\n",
    "    service=(a,b,c,d)\n",
    "    situation.append(service) #service tuple\n",
    "    a=info.iloc[i][11] #vul1\n",
    "    b=info.iloc[i][12] #vul2\n",
    "    c=info.iloc[i][13] #vul3\n",
    "    d=info.iloc[i][14] #vul4\n",
    "    vul=(a,b,c,d)\n",
    "    situation.append(vul) #service tuple\n",
    "    \n",
    "    \n",
    "    #now the situation of a system has been defined-adding it to the system_info list\n",
    "    system_situation.append(situation)"
   ]
  },
  {
   "cell_type": "code",
   "execution_count": 5,
   "id": "079a5841",
   "metadata": {},
   "outputs": [
    {
     "data": {
      "text/plain": [
       "[39,\n",
       " False,\n",
       " 'Windows Server 2003',\n",
       " ('80/tcp', '135/tcp', '21/tcp', '111/tcp'),\n",
       " ('http', 'msrpc', 'ftp', 'rpcbind'),\n",
       " ('sql_injection', 'DoS_attack', 'brute_force', 'DDoS_attack')]"
      ]
     },
     "execution_count": 5,
     "metadata": {},
     "output_type": "execute_result"
    }
   ],
   "source": [
    "#printing situation of system 39\n",
    "system_situation[39]"
   ]
  },
  {
   "cell_type": "code",
   "execution_count": 6,
   "id": "e3291c5f",
   "metadata": {},
   "outputs": [
    {
     "data": {
      "text/plain": [
       "[4,\n",
       " False,\n",
       " 'HP-UX 11i',\n",
       " ('80/tcp', '21/tcp', '111/tcp', '25/tcp'),\n",
       " ('http', 'ftp', 'rpcbind', 'smtp'),\n",
       " ('sql_injection', 'brute_force', 'DDoS_attack', 'directory_harvest')]"
      ]
     },
     "execution_count": 6,
     "metadata": {},
     "output_type": "execute_result"
    }
   ],
   "source": [
    "#printing situation of system 4\n",
    "system_situation[4]"
   ]
  },
  {
   "cell_type": "code",
   "execution_count": 7,
   "id": "697d2e88",
   "metadata": {},
   "outputs": [],
   "source": [
    "#defining system_situation2- we need to prepopulate with all possible decisions\n",
    "#we need to prepopulate with not only exploitation=False conditions but exploitation=True as well\n",
    "#prepopulation of all possible decisions is done with default utility=10\n",
    "\n",
    "system_situation2=[] \n",
    "#to get situation of system x at any point of time-- system_situation[x]\n",
    "\n",
    "for i in range(len(info)):\n",
    "    #situation format-[sys_no,exploited,os,(p1,p2,p3,p4),(serv1,serv2,serv3,serv4),(vul1,vul2,vul3,vul4)]\n",
    "    situation=[]\n",
    "    situation.append(info.iloc[i][0]) #sys_number\n",
    "    situation.append(True) #exploited\n",
    "    situation.append(info.iloc[i][2]) #os\n",
    "    a=info.iloc[i][3] #port1\n",
    "    b=info.iloc[i][4] #port2\n",
    "    c=info.iloc[i][5] #port3\n",
    "    d=info.iloc[i][6] #port4\n",
    "    port=(a,b,c,d)\n",
    "    situation.append(port) #port tuple\n",
    "    a=info.iloc[i][7] #service1\n",
    "    b=info.iloc[i][8] #service2\n",
    "    c=info.iloc[i][9] #service3\n",
    "    d=info.iloc[i][10] #service4\n",
    "    service=(a,b,c,d)\n",
    "    situation.append(service) #service tuple\n",
    "    a=info.iloc[i][11] #vul1\n",
    "    b=info.iloc[i][12] #vul2\n",
    "    c=info.iloc[i][13] #vul3\n",
    "    d=info.iloc[i][14] #vul4\n",
    "    vul=(a,b,c,d)\n",
    "    situation.append(vul) #service tuple\n",
    "    \n",
    "    \n",
    "    #now the situation of a system has been defined-adding it to the system_info list\n",
    "    system_situation2.append(situation)"
   ]
  },
  {
   "cell_type": "code",
   "execution_count": 8,
   "id": "ab65f647",
   "metadata": {},
   "outputs": [
    {
     "data": {
      "text/plain": [
       "[4,\n",
       " True,\n",
       " 'HP-UX 11i',\n",
       " ('80/tcp', '21/tcp', '111/tcp', '25/tcp'),\n",
       " ('http', 'ftp', 'rpcbind', 'smtp'),\n",
       " ('sql_injection', 'brute_force', 'DDoS_attack', 'directory_harvest')]"
      ]
     },
     "execution_count": 8,
     "metadata": {},
     "output_type": "execute_result"
    }
   ],
   "source": [
    "system_situation2[4]"
   ]
  },
  {
   "cell_type": "code",
   "execution_count": 9,
   "id": "a974a03e",
   "metadata": {},
   "outputs": [
    {
     "data": {
      "text/plain": [
       "[4,\n",
       " False,\n",
       " 'HP-UX 11i',\n",
       " ('80/tcp', '21/tcp', '111/tcp', '25/tcp'),\n",
       " ('http', 'ftp', 'rpcbind', 'smtp'),\n",
       " ('sql_injection', 'brute_force', 'DDoS_attack', 'directory_harvest')]"
      ]
     },
     "execution_count": 9,
     "metadata": {},
     "output_type": "execute_result"
    }
   ],
   "source": [
    "system_situation[4]"
   ]
  },
  {
   "cell_type": "markdown",
   "id": "797f1717",
   "metadata": {},
   "source": [
    "<h3> System:Real/Honeypot </h3>"
   ]
  },
  {
   "cell_type": "code",
   "execution_count": 10,
   "id": "fef78e7c",
   "metadata": {},
   "outputs": [],
   "source": [
    "real=info[\"Real or Honeypot\"]"
   ]
  },
  {
   "cell_type": "code",
   "execution_count": 11,
   "id": "4c7a2edd",
   "metadata": {},
   "outputs": [],
   "source": [
    "real=np.array(real)"
   ]
  },
  {
   "cell_type": "code",
   "execution_count": 12,
   "id": "11042d58",
   "metadata": {},
   "outputs": [],
   "source": [
    "def clean(a):\n",
    "    if a==\"Real\":\n",
    "        return True\n",
    "    return False"
   ]
  },
  {
   "cell_type": "code",
   "execution_count": 13,
   "id": "617d3a22",
   "metadata": {},
   "outputs": [],
   "source": [
    "real=np.array([clean(a) for a in real])"
   ]
  },
  {
   "cell_type": "code",
   "execution_count": 14,
   "id": "d1cc9c6a",
   "metadata": {},
   "outputs": [
    {
     "data": {
      "text/plain": [
       "array([False, False, False, False, False, False, False, False, False,\n",
       "       False,  True, False, False, False, False,  True, False,  True,\n",
       "       False,  True, False, False, False,  True, False, False, False,\n",
       "        True,  True, False, False, False,  True, False, False,  True,\n",
       "       False,  True, False, False])"
      ]
     },
     "execution_count": 14,
     "metadata": {},
     "output_type": "execute_result"
    }
   ],
   "source": [
    "real #1-real,0-honeypot"
   ]
  },
  {
   "cell_type": "code",
   "execution_count": 15,
   "id": "91108fdd",
   "metadata": {},
   "outputs": [
    {
     "data": {
      "text/plain": [
       "False"
      ]
     },
     "execution_count": 15,
     "metadata": {},
     "output_type": "execute_result"
    }
   ],
   "source": [
    "#to check if system x is real-- real[x]\n",
    "real[5]"
   ]
  },
  {
   "cell_type": "markdown",
   "id": "4ef76e58",
   "metadata": {},
   "source": [
    "<h1> Reading Non Subnet Data </h1>"
   ]
  },
  {
   "cell_type": "code",
   "execution_count": 16,
   "id": "17065bec",
   "metadata": {},
   "outputs": [],
   "source": [
    "non_subnet=pd.read_excel(\"Cyber Attack Modeling Data-Clean.xlsx\", sheet_name=\"Non_Subnet-Data\")"
   ]
  },
  {
   "cell_type": "code",
   "execution_count": 17,
   "id": "4dc8408a",
   "metadata": {},
   "outputs": [
    {
     "data": {
      "text/html": [
       "<div>\n",
       "<style scoped>\n",
       "    .dataframe tbody tr th:only-of-type {\n",
       "        vertical-align: middle;\n",
       "    }\n",
       "\n",
       "    .dataframe tbody tr th {\n",
       "        vertical-align: top;\n",
       "    }\n",
       "\n",
       "    .dataframe thead th {\n",
       "        text-align: right;\n",
       "    }\n",
       "</style>\n",
       "<table border=\"1\" class=\"dataframe\">\n",
       "  <thead>\n",
       "    <tr style=\"text-align: right;\">\n",
       "      <th></th>\n",
       "      <th>UserID</th>\n",
       "      <th>System Attacked</th>\n",
       "    </tr>\n",
       "  </thead>\n",
       "  <tbody>\n",
       "    <tr>\n",
       "      <th>0</th>\n",
       "      <td>26</td>\n",
       "      <td>0</td>\n",
       "    </tr>\n",
       "    <tr>\n",
       "      <th>1</th>\n",
       "      <td>26</td>\n",
       "      <td>1</td>\n",
       "    </tr>\n",
       "    <tr>\n",
       "      <th>2</th>\n",
       "      <td>26</td>\n",
       "      <td>13</td>\n",
       "    </tr>\n",
       "    <tr>\n",
       "      <th>3</th>\n",
       "      <td>26</td>\n",
       "      <td>13</td>\n",
       "    </tr>\n",
       "    <tr>\n",
       "      <th>4</th>\n",
       "      <td>26</td>\n",
       "      <td>39</td>\n",
       "    </tr>\n",
       "  </tbody>\n",
       "</table>\n",
       "</div>"
      ],
      "text/plain": [
       "   UserID  System Attacked\n",
       "0      26                0\n",
       "1      26                1\n",
       "2      26               13\n",
       "3      26               13\n",
       "4      26               39"
      ]
     },
     "execution_count": 17,
     "metadata": {},
     "output_type": "execute_result"
    }
   ],
   "source": [
    "non_subnet.head()"
   ]
  },
  {
   "cell_type": "code",
   "execution_count": 18,
   "id": "5adfec93",
   "metadata": {},
   "outputs": [
    {
     "data": {
      "text/plain": [
       "array([ 26,  32,  34,  36,  37,  39,  40,  41,  43,  44,  45,  47,  52,\n",
       "        53,  56,  57,  59,  60,  62,  64,  68,  69,  70,  71,  72,  75,\n",
       "        76,  77,  78,  80,  81,  82,  83,  84,  85,  86,  87,  88,  90,\n",
       "        92,  93,  94,  95,  98,  99, 106, 107, 109, 111, 113, 114, 116,\n",
       "       118, 124, 125, 129, 130, 133, 134], dtype=int64)"
      ]
     },
     "execution_count": 18,
     "metadata": {},
     "output_type": "execute_result"
    }
   ],
   "source": [
    "users=pd.unique(non_subnet['UserID'])\n",
    "users"
   ]
  },
  {
   "cell_type": "code",
   "execution_count": 21,
   "id": "486ef9f2",
   "metadata": {},
   "outputs": [
    {
     "data": {
      "text/html": [
       "<div>\n",
       "<style scoped>\n",
       "    .dataframe tbody tr th:only-of-type {\n",
       "        vertical-align: middle;\n",
       "    }\n",
       "\n",
       "    .dataframe tbody tr th {\n",
       "        vertical-align: top;\n",
       "    }\n",
       "\n",
       "    .dataframe thead th {\n",
       "        text-align: right;\n",
       "    }\n",
       "</style>\n",
       "<table border=\"1\" class=\"dataframe\">\n",
       "  <thead>\n",
       "    <tr style=\"text-align: right;\">\n",
       "      <th></th>\n",
       "      <th>UserID</th>\n",
       "      <th>System Attacked</th>\n",
       "    </tr>\n",
       "  </thead>\n",
       "  <tbody>\n",
       "    <tr>\n",
       "      <th>0</th>\n",
       "      <td>26</td>\n",
       "      <td>0</td>\n",
       "    </tr>\n",
       "    <tr>\n",
       "      <th>1</th>\n",
       "      <td>26</td>\n",
       "      <td>1</td>\n",
       "    </tr>\n",
       "    <tr>\n",
       "      <th>2</th>\n",
       "      <td>26</td>\n",
       "      <td>13</td>\n",
       "    </tr>\n",
       "    <tr>\n",
       "      <th>3</th>\n",
       "      <td>26</td>\n",
       "      <td>13</td>\n",
       "    </tr>\n",
       "    <tr>\n",
       "      <th>4</th>\n",
       "      <td>26</td>\n",
       "      <td>39</td>\n",
       "    </tr>\n",
       "    <tr>\n",
       "      <th>5</th>\n",
       "      <td>26</td>\n",
       "      <td>27</td>\n",
       "    </tr>\n",
       "    <tr>\n",
       "      <th>6</th>\n",
       "      <td>26</td>\n",
       "      <td>26</td>\n",
       "    </tr>\n",
       "    <tr>\n",
       "      <th>7</th>\n",
       "      <td>26</td>\n",
       "      <td>7</td>\n",
       "    </tr>\n",
       "    <tr>\n",
       "      <th>8</th>\n",
       "      <td>26</td>\n",
       "      <td>16</td>\n",
       "    </tr>\n",
       "    <tr>\n",
       "      <th>9</th>\n",
       "      <td>26</td>\n",
       "      <td>18</td>\n",
       "    </tr>\n",
       "    <tr>\n",
       "      <th>10</th>\n",
       "      <td>26</td>\n",
       "      <td>4</td>\n",
       "    </tr>\n",
       "    <tr>\n",
       "      <th>11</th>\n",
       "      <td>26</td>\n",
       "      <td>25</td>\n",
       "    </tr>\n",
       "    <tr>\n",
       "      <th>12</th>\n",
       "      <td>26</td>\n",
       "      <td>5</td>\n",
       "    </tr>\n",
       "    <tr>\n",
       "      <th>13</th>\n",
       "      <td>26</td>\n",
       "      <td>4</td>\n",
       "    </tr>\n",
       "    <tr>\n",
       "      <th>14</th>\n",
       "      <td>26</td>\n",
       "      <td>4</td>\n",
       "    </tr>\n",
       "    <tr>\n",
       "      <th>15</th>\n",
       "      <td>26</td>\n",
       "      <td>8</td>\n",
       "    </tr>\n",
       "    <tr>\n",
       "      <th>16</th>\n",
       "      <td>26</td>\n",
       "      <td>10</td>\n",
       "    </tr>\n",
       "    <tr>\n",
       "      <th>17</th>\n",
       "      <td>26</td>\n",
       "      <td>37</td>\n",
       "    </tr>\n",
       "    <tr>\n",
       "      <th>18</th>\n",
       "      <td>26</td>\n",
       "      <td>24</td>\n",
       "    </tr>\n",
       "    <tr>\n",
       "      <th>19</th>\n",
       "      <td>26</td>\n",
       "      <td>19</td>\n",
       "    </tr>\n",
       "  </tbody>\n",
       "</table>\n",
       "</div>"
      ],
      "text/plain": [
       "    UserID  System Attacked\n",
       "0       26                0\n",
       "1       26                1\n",
       "2       26               13\n",
       "3       26               13\n",
       "4       26               39\n",
       "5       26               27\n",
       "6       26               26\n",
       "7       26                7\n",
       "8       26               16\n",
       "9       26               18\n",
       "10      26                4\n",
       "11      26               25\n",
       "12      26                5\n",
       "13      26                4\n",
       "14      26                4\n",
       "15      26                8\n",
       "16      26               10\n",
       "17      26               37\n",
       "18      26               24\n",
       "19      26               19"
      ]
     },
     "execution_count": 21,
     "metadata": {},
     "output_type": "execute_result"
    }
   ],
   "source": [
    "user_data=non_subnet[non_subnet[\"UserID\"]==26] \n",
    "user_data #data frame for a particular user\n",
    "user_data"
   ]
  },
  {
   "cell_type": "code",
   "execution_count": null,
   "id": "9b0beaea",
   "metadata": {},
   "outputs": [],
   "source": []
  },
  {
   "cell_type": "code",
   "execution_count": null,
   "id": "07239903",
   "metadata": {},
   "outputs": [],
   "source": []
  },
  {
   "cell_type": "code",
   "execution_count": null,
   "id": "1cc5a4b8",
   "metadata": {},
   "outputs": [],
   "source": []
  },
  {
   "cell_type": "markdown",
   "id": "be5c2704",
   "metadata": {},
   "source": [
    "<h1> Human Scores after 70% decisions </h1>"
   ]
  },
  {
   "cell_type": "markdown",
   "id": "4d7cd440",
   "metadata": {},
   "source": [
    "<h3> Defining Reward Function </h3>"
   ]
  },
  {
   "cell_type": "code",
   "execution_count": 22,
   "id": "1ab6968f",
   "metadata": {},
   "outputs": [],
   "source": [
    "def reward_simulation(choice): #choice-situation is a list with a predefined format\n",
    "    if real[choice[0]]: #real system\n",
    "        if choice[1]==False: #not exploited yet\n",
    "            p=np.random.rand() #randomly generates a number between 0 and 1\n",
    "            if p<0.5:\n",
    "                return 5\n",
    "            else:\n",
    "                return 2.5\n",
    "        else: #already exploited\n",
    "            return -10 #to punish choices of real systems which have already been exploited\n",
    "    else: #honeypot\n",
    "        return -5   "
   ]
  },
  {
   "cell_type": "markdown",
   "id": "be040656",
   "metadata": {},
   "source": [
    "<h3> Calculating scores after 70% decision </h3>"
   ]
  },
  {
   "cell_type": "code",
   "execution_count": 23,
   "id": "90a16c28",
   "metadata": {},
   "outputs": [
    {
     "name": "stdout",
     "output_type": "stream",
     "text": [
      "Enter the number of times you want to run the simulation: 5\n"
     ]
    }
   ],
   "source": [
    "num=int(input(\"Enter the number of times you want to run the simulation: \"))"
   ]
  },
  {
   "cell_type": "code",
   "execution_count": 24,
   "id": "e75d4467",
   "metadata": {},
   "outputs": [
    {
     "name": "stderr",
     "output_type": "stream",
     "text": [
      "100%|████████████████████████████████████████████████████████████████████████████████████| 5/5 [00:01<00:00,  2.91it/s]\n"
     ]
    }
   ],
   "source": [
    "simulation_score_human_non_subnet=np.zeros(num) #stores the average score of users in a simulation across all (num) simulations\n",
    "\n",
    "for i in tqdm(range(num)):\n",
    "    score=0 #total score of all users in a simulation\n",
    "    \n",
    "    for user in users: #for each user\n",
    "        \n",
    "        copy_system_situation=deepcopy(system_situation) #copy of original-changes in it won't modify original\n",
    "        \n",
    "        user_data=non_subnet[non_subnet[\"UserID\"]==user] \n",
    "        #user_data-data frame for a particular user\n",
    "        \n",
    "        seventy_per_user=int(len(user_data)*0.7) #index till the 70th% decision\n",
    "        for j in range(seventy_per_user):\n",
    "            system_attacked=user_data.iloc[j][1]\n",
    "            reward=reward_simulation(copy_system_situation[system_attacked])\n",
    "            if reward==5: #real system exploited\n",
    "                copy_system_situation[system_attacked][1]=True #updating the exploited condition\n",
    "        \n",
    "        #calculating scores from the 70th percent decison till the last decision\n",
    "        for j in range(seventy_per_user):\n",
    "            system_attacked=user_data.iloc[j][1]\n",
    "            reward=reward_simulation(copy_system_situation[system_attacked])\n",
    "            if reward==5: #real system exploited\n",
    "                score+=100\n",
    "                copy_system_situation[system_attacked][1]=True #updating the exploited condition\n",
    "        \n",
    "        \n",
    "    \n",
    "    score=score/len(users) #taking the average score of all the users in the simulation\n",
    "    simulation_score_human_non_subnet[i]=score"
   ]
  },
  {
   "cell_type": "code",
   "execution_count": 25,
   "id": "c5b9f775",
   "metadata": {},
   "outputs": [
    {
     "data": {
      "text/plain": [
       "array([13.55932203, 22.03389831, 30.50847458, 22.03389831, 16.94915254])"
      ]
     },
     "execution_count": 25,
     "metadata": {},
     "output_type": "execute_result"
    }
   ],
   "source": [
    "simulation_score_human_non_subnet"
   ]
  },
  {
   "cell_type": "code",
   "execution_count": 26,
   "id": "4297fd19",
   "metadata": {},
   "outputs": [
    {
     "data": {
      "text/plain": [
       "21.016949152542374"
      ]
     },
     "execution_count": 26,
     "metadata": {},
     "output_type": "execute_result"
    }
   ],
   "source": [
    "np.mean(simulation_score_human_non_subnet)"
   ]
  },
  {
   "cell_type": "code",
   "execution_count": null,
   "id": "d292e4b7",
   "metadata": {},
   "outputs": [],
   "source": []
  },
  {
   "cell_type": "code",
   "execution_count": null,
   "id": "9bb6db54",
   "metadata": {},
   "outputs": [],
   "source": []
  },
  {
   "cell_type": "markdown",
   "id": "0c2e008a",
   "metadata": {},
   "source": [
    "<h1> pyIBL Simulation- Score Calculation after 70% decisions prepopulated </h1>"
   ]
  },
  {
   "cell_type": "markdown",
   "id": "66eaa60d",
   "metadata": {},
   "source": [
    "<h3> Utilities </h3>"
   ]
  },
  {
   "cell_type": "code",
   "execution_count": 27,
   "id": "599acc7a",
   "metadata": {},
   "outputs": [],
   "source": [
    "def reward_simulation(choice): #choice-situation is a list with a predefined format\n",
    "    if real[choice[0]]: #real system\n",
    "        if choice[1]==False: #not exploited yet\n",
    "            p=np.random.rand() #randomly generates a number between 0 and 1\n",
    "            if p<0.5:\n",
    "                return 5\n",
    "            else:\n",
    "                return 2.5\n",
    "        else: #already exploited\n",
    "            return -10 #to punish choices of real systems which have already been exploited\n",
    "    else: #honeypot\n",
    "        return -5        "
   ]
  },
  {
   "cell_type": "code",
   "execution_count": 28,
   "id": "f34f1bcf",
   "metadata": {},
   "outputs": [],
   "source": [
    "def my_similarity(a,b): #custom similariry function for port list, services list and vulnerability list\n",
    "    #scale=len(a)\n",
    "    a=set(a)\n",
    "    b=set(b)\n",
    "    sim=len(np.union(a,b))/len(a)\n",
    "    return sim"
   ]
  },
  {
   "cell_type": "code",
   "execution_count": 29,
   "id": "e3d2b4e6",
   "metadata": {},
   "outputs": [],
   "source": [
    "#situation format-[sys_no,exploited,os,[p1,p2,p3,p4],[serv1,serv2,serv3,serv4],[vul1,vul2,vul3,vul4]]\n",
    "attributes=[\"system_number\",\"exploited\",\"os\",\"ports\",\"services\",\"vulnerabilities\"]"
   ]
  },
  {
   "cell_type": "code",
   "execution_count": 30,
   "id": "5ad57dc4",
   "metadata": {},
   "outputs": [],
   "source": [
    "#defining the similarity for the attributes as my custom similarity\n",
    "similarity(my_similarity,\"ports\")\n",
    "similarity(my_similarity,\"services\")\n",
    "similarity(my_similarity,\"vulnerabilities\")"
   ]
  },
  {
   "cell_type": "markdown",
   "id": "d025a5a8",
   "metadata": {},
   "source": [
    "<h3> Defining Agent </h3>"
   ]
  },
  {
   "cell_type": "code",
   "execution_count": 31,
   "id": "3cc18f8e",
   "metadata": {},
   "outputs": [],
   "source": [
    "a = pyibl.Agent(\"Hackit\",attributes,noise=0.25,decay=0.5,mismatch_penalty=1) #defining the agent"
   ]
  },
  {
   "cell_type": "markdown",
   "id": "b2c1b033",
   "metadata": {},
   "source": [
    "<h3> Simulation </h3>"
   ]
  },
  {
   "cell_type": "code",
   "execution_count": 32,
   "id": "0854aa90",
   "metadata": {},
   "outputs": [
    {
     "name": "stdout",
     "output_type": "stream",
     "text": [
      "Enter the number of times you want to run the simulation: 5\n"
     ]
    }
   ],
   "source": [
    "num=int(input(\"Enter the number of times you want to run the simulation: \"))"
   ]
  },
  {
   "cell_type": "code",
   "execution_count": 33,
   "id": "1e7cc05b",
   "metadata": {},
   "outputs": [
    {
     "name": "stderr",
     "output_type": "stream",
     "text": [
      "100%|████████████████████████████████████████████████████████████████████████████████████| 5/5 [00:26<00:00,  5.28s/it]\n"
     ]
    }
   ],
   "source": [
    "simulation_score_ibl_non_subnet=np.zeros(num) #stores the average score of users in a simulation across all (num) simulations\n",
    "\n",
    "for i in tqdm(range(num)):\n",
    "    score=0 #total score of all users in a simulation\n",
    "    \n",
    "    for user in users: #for each user\n",
    "        \n",
    "        a.reset() #resetting agent memory before each user begins\n",
    "        copy_system_situation=deepcopy(system_situation) #copy of original-changes in it won't modify original\n",
    "        copy_system_situation2=deepcopy(system_situation2) #copy of original-changes in it won't modify original\n",
    "        \n",
    "        \n",
    "        #prepopulating all decisions with exploitation=False and Default Utility=10\n",
    "        for j in range(len(copy_system_situation)):\n",
    "            utility=10 #default utility\n",
    "            a.populate(utility,copy_system_situation[j])\n",
    "        \n",
    "        #prepopulating all decisions with exploitation=True and Default Utility=10\n",
    "        for j in range(len(copy_system_situation2)):\n",
    "            utility=10 #default utility\n",
    "            a.populate(utility,copy_system_situation2[j])\n",
    "            \n",
    "        #prepopulating 70 percent instances of that user\n",
    "        user_data=non_subnet[non_subnet[\"UserID\"]==user] \n",
    "        #user_data-data frame for a particular user\n",
    "        seventy_per_user=int(len(user_data)*0.7) #index till the 70th% decision\n",
    "        for j in range(seventy_per_user):\n",
    "            system_attacked=user_data.iloc[j][1]\n",
    "            reward=reward_simulation(copy_system_situation[system_attacked])\n",
    "            a.populate(reward,copy_system_situation[system_attacked])\n",
    "            if reward==5: #real system exploited\n",
    "                copy_system_situation[system_attacked][1]=True #updating the exploited condition\n",
    "            \n",
    "            \n",
    "        copy_system_situation=deepcopy(system_situation) #copy of original-changes in it won't modify original\n",
    "        copy_system_situation2=deepcopy(system_situation2) #copy of original-changes in it won't modify original\n",
    "        \n",
    "        #now prepopulation of user instances has been done\n",
    "        #simulating pyibl choices-number of choices to be made same as the number of instances prepopulated\n",
    "        \n",
    "        thirty_per_user=int(len(user_data)*0.3) #30 percent decision number\n",
    "        for j in range(thirty_per_user):\n",
    "            choice=a.choose(copy_system_situation[0],copy_system_situation[1],copy_system_situation[2],copy_system_situation[3],\n",
    "                            copy_system_situation[4],copy_system_situation[5],copy_system_situation[6],copy_system_situation[7],\n",
    "                            copy_system_situation[8],copy_system_situation[9],copy_system_situation[10],copy_system_situation[11],\n",
    "                            copy_system_situation[12],copy_system_situation[13],copy_system_situation[14],copy_system_situation[15],\n",
    "                            copy_system_situation[16],copy_system_situation[17],copy_system_situation[18],copy_system_situation[19],\n",
    "                            copy_system_situation[20],copy_system_situation[21],copy_system_situation[22],copy_system_situation[23],\n",
    "                            copy_system_situation[24],copy_system_situation[25],copy_system_situation[26],copy_system_situation[27],\n",
    "                            copy_system_situation[28],copy_system_situation[29],copy_system_situation[30],copy_system_situation[31],\n",
    "                            copy_system_situation[32],copy_system_situation[33],copy_system_situation[34],copy_system_situation[35],\n",
    "                            copy_system_situation[36],copy_system_situation[37],copy_system_situation[38],copy_system_situation[39])\n",
    "            \n",
    "            reward=reward_simulation(choice)\n",
    "            a.respond(reward)\n",
    "            \n",
    "            if reward==5: #real system exploited\n",
    "                score+=100\n",
    "                system_attacked=choice[0]\n",
    "                copy_system_situation[system_attacked][1]=True #updating the exploited condition\n",
    "    \n",
    "    score=score/len(users) #taking the average score of all the users in the simulation\n",
    "    simulation_score_ibl_non_subnet[i]=score"
   ]
  },
  {
   "cell_type": "code",
   "execution_count": 34,
   "id": "ec80b127",
   "metadata": {},
   "outputs": [
    {
     "data": {
      "text/plain": [
       "array([38.98305085, 33.89830508, 44.06779661, 40.6779661 , 40.6779661 ])"
      ]
     },
     "execution_count": 34,
     "metadata": {},
     "output_type": "execute_result"
    }
   ],
   "source": [
    "simulation_score_ibl_non_subnet"
   ]
  },
  {
   "cell_type": "code",
   "execution_count": 36,
   "id": "cf001e84",
   "metadata": {},
   "outputs": [
    {
     "data": {
      "text/plain": [
       "39.66101694915254"
      ]
     },
     "execution_count": 36,
     "metadata": {},
     "output_type": "execute_result"
    }
   ],
   "source": [
    "np.mean(simulation_score_ibl_non_subnet)"
   ]
  },
  {
   "cell_type": "code",
   "execution_count": null,
   "id": "a82ff3ea",
   "metadata": {},
   "outputs": [],
   "source": []
  },
  {
   "cell_type": "code",
   "execution_count": null,
   "id": "cee3ca45",
   "metadata": {},
   "outputs": [],
   "source": []
  },
  {
   "cell_type": "markdown",
   "id": "8f4a2db1",
   "metadata": {},
   "source": [
    "<h1> Results- Non Subnet Condition</h1>"
   ]
  },
  {
   "cell_type": "code",
   "execution_count": 37,
   "id": "4281ed99",
   "metadata": {},
   "outputs": [
    {
     "name": "stdout",
     "output_type": "stream",
     "text": [
      "human scores after 70% decisions:  21.016949152542374\n",
      "IBL scores after 70% decisions prepopulated:  39.66101694915254\n"
     ]
    }
   ],
   "source": [
    "print(\"human scores after 70% decisions: \",np.mean(simulation_score_human_non_subnet))\n",
    "\n",
    "print(\"IBL scores after 70% decisions prepopulated: \",np.mean(simulation_score_ibl_non_subnet))"
   ]
  },
  {
   "cell_type": "code",
   "execution_count": 38,
   "id": "30cda167",
   "metadata": {},
   "outputs": [
    {
     "data": {
      "image/png": "[encoded data removed]",
      "text/plain": [
       "<Figure size 576x576 with 1 Axes>"
      ]
     },
     "metadata": {
      "needs_background": "light"
     },
     "output_type": "display_data"
    }
   ],
   "source": [
    "#calculating the percentage optimum arm pulls over the total number of pulls for each epsilon\n",
    "\n",
    "\n",
    "experiment = [\"human scores after 70% decisions\",\"IBL scores after 70% decisions prepopulated\"]\n",
    "score=[round(np.mean(simulation_score_human_non_subnet),2),round(np.mean(simulation_score_ibl_non_subnet),2)]\n",
    "  \n",
    "#Creating a figure with some fig size\n",
    "fig, ax = plt.subplots(figsize = (8,8))\n",
    "ax.bar(experiment,score,color=\"maroon\",width=0.3)\n",
    "#plt.text() , you need to give (x,y) location , where you want to put the numbers,\n",
    "#So here index will give you x pos and data+1 will provide a little gap in y axis.\n",
    "for index,data in enumerate(score):\n",
    "    plt.text(x=index , y =data+1 , s=f\"{data}\" , fontdict=dict(fontsize=10))\n",
    "plt.tight_layout()\n",
    "plt.xlabel(\"Experiment\",fontsize=20)\n",
    "plt.ylabel(\"Score\",fontsize=20)\n",
    "plt.title(\"Scores in Non-Subnet Condition\",fontsize=20)\n",
    "plt.show()"
   ]
  },
  {
   "cell_type": "code",
   "execution_count": null,
   "id": "942670fa",
   "metadata": {},
   "outputs": [],
   "source": []
  },
  {
   "cell_type": "code",
   "execution_count": null,
   "id": "ae898aaa",
   "metadata": {},
   "outputs": [],
   "source": []
  }
 ],
 "metadata": {
  "kernelspec": {
   "display_name": "Python 3",
   "language": "python",
   "name": "python3"
  },
  "language_info": {
   "codemirror_mode": {
    "name": "ipython",
    "version": 3
   },
   "file_extension": ".py",
   "mimetype": "text/x-python",
   "name": "python",
   "nbconvert_exporter": "python",
   "pygments_lexer": "ipython3",
   "version": "3.8.8"
  }
 },
 "nbformat": 4,
 "nbformat_minor": 5
}
