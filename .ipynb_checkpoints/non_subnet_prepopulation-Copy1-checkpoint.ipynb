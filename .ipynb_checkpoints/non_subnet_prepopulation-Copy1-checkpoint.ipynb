{
 "cells": [
  {
   "cell_type": "code",
   "execution_count": 2,
   "id": "078ee7da",
   "metadata": {},
   "outputs": [],
   "source": [
    "import pandas as pd\n",
    "import numpy as np\n",
    "import matplotlib.pyplot as plt\n",
    "import seaborn as sns\n",
    "import pyibl\n",
    "from tqdm import tqdm\n",
    "from pyibl import similarity\n",
    "from copy import deepcopy"
   ]
  },
  {
   "cell_type": "markdown",
   "id": "75a06d71",
   "metadata": {},
   "source": [
    "<h1> Reading System Data </h1>"
   ]
  },
  {
   "cell_type": "code",
   "execution_count": 3,
   "id": "1f24f6fb",
   "metadata": {},
   "outputs": [],
   "source": [
    "info=pd.read_excel(\"Cyber Attack Modeling Data-Clean.xlsx\", sheet_name=\"System Info\")"
   ]
  },
  {
   "cell_type": "code",
   "execution_count": 4,
   "id": "5689ac31",
   "metadata": {
    "scrolled": true
   },
   "outputs": [
    {
     "data": {
      "text/html": [
       "<div>\n",
       "<style scoped>\n",
       "    .dataframe tbody tr th:only-of-type {\n",
       "        vertical-align: middle;\n",
       "    }\n",
       "\n",
       "    .dataframe tbody tr th {\n",
       "        vertical-align: top;\n",
       "    }\n",
       "\n",
       "    .dataframe thead th {\n",
       "        text-align: right;\n",
       "    }\n",
       "</style>\n",
       "<table border=\"1\" class=\"dataframe\">\n",
       "  <thead>\n",
       "    <tr style=\"text-align: right;\">\n",
       "      <th></th>\n",
       "      <th>System</th>\n",
       "      <th>Real or Honeypot</th>\n",
       "      <th>OS</th>\n",
       "      <th>Port 1</th>\n",
       "      <th>Port 2</th>\n",
       "      <th>Port 3</th>\n",
       "      <th>Port 4</th>\n",
       "      <th>Service on P1</th>\n",
       "      <th>Service on P2</th>\n",
       "      <th>Service on P3</th>\n",
       "      <th>Service on P4</th>\n",
       "      <th>Vulnerability on Port 1</th>\n",
       "      <th>Vulnerability on Port 2</th>\n",
       "      <th>Vulnerability on Port 3</th>\n",
       "      <th>Vulnerability on Port 4</th>\n",
       "    </tr>\n",
       "  </thead>\n",
       "  <tbody>\n",
       "    <tr>\n",
       "      <th>0</th>\n",
       "      <td>0</td>\n",
       "      <td>Honeypot</td>\n",
       "      <td>Solaris</td>\n",
       "      <td>25/tcp</td>\n",
       "      <td>21/tcp</td>\n",
       "      <td>111/tcp</td>\n",
       "      <td>135/tcp</td>\n",
       "      <td>smtp</td>\n",
       "      <td>ftp</td>\n",
       "      <td>rpcbind</td>\n",
       "      <td>msrpc</td>\n",
       "      <td>directory_harvest</td>\n",
       "      <td>brute_force</td>\n",
       "      <td>DDoS_attack</td>\n",
       "      <td>DoS_attack</td>\n",
       "    </tr>\n",
       "    <tr>\n",
       "      <th>1</th>\n",
       "      <td>1</td>\n",
       "      <td>Honeypot</td>\n",
       "      <td>HP-UX 11i</td>\n",
       "      <td>135/tcp</td>\n",
       "      <td>111/tcp</td>\n",
       "      <td>25/tcp</td>\n",
       "      <td>80/tcp</td>\n",
       "      <td>msrpc</td>\n",
       "      <td>rpcbind</td>\n",
       "      <td>smtp</td>\n",
       "      <td>http</td>\n",
       "      <td>DoS_attack</td>\n",
       "      <td>DDoS_attack</td>\n",
       "      <td>directory_harvest</td>\n",
       "      <td>sql_injection</td>\n",
       "    </tr>\n",
       "    <tr>\n",
       "      <th>2</th>\n",
       "      <td>2</td>\n",
       "      <td>Honeypot</td>\n",
       "      <td>HP-UX 11i</td>\n",
       "      <td>80/tcp</td>\n",
       "      <td>111/tcp</td>\n",
       "      <td>21/tcp</td>\n",
       "      <td>25/tcp</td>\n",
       "      <td>http</td>\n",
       "      <td>rpcbind</td>\n",
       "      <td>ftp</td>\n",
       "      <td>smtp</td>\n",
       "      <td>sql_injection</td>\n",
       "      <td>DDoS_attack</td>\n",
       "      <td>brute_force</td>\n",
       "      <td>directory_harvest</td>\n",
       "    </tr>\n",
       "    <tr>\n",
       "      <th>3</th>\n",
       "      <td>3</td>\n",
       "      <td>Honeypot</td>\n",
       "      <td>Windows Server 2003</td>\n",
       "      <td>111/tcp</td>\n",
       "      <td>21/tcp</td>\n",
       "      <td>135/tcp</td>\n",
       "      <td>80/tcp</td>\n",
       "      <td>rpcbind</td>\n",
       "      <td>ftp</td>\n",
       "      <td>msrpc</td>\n",
       "      <td>http</td>\n",
       "      <td>DDoS_attack</td>\n",
       "      <td>brute_force</td>\n",
       "      <td>DoS_attack</td>\n",
       "      <td>sql_injection</td>\n",
       "    </tr>\n",
       "    <tr>\n",
       "      <th>4</th>\n",
       "      <td>4</td>\n",
       "      <td>Honeypot</td>\n",
       "      <td>HP-UX 11i</td>\n",
       "      <td>80/tcp</td>\n",
       "      <td>21/tcp</td>\n",
       "      <td>111/tcp</td>\n",
       "      <td>25/tcp</td>\n",
       "      <td>http</td>\n",
       "      <td>ftp</td>\n",
       "      <td>rpcbind</td>\n",
       "      <td>smtp</td>\n",
       "      <td>sql_injection</td>\n",
       "      <td>brute_force</td>\n",
       "      <td>DDoS_attack</td>\n",
       "      <td>directory_harvest</td>\n",
       "    </tr>\n",
       "  </tbody>\n",
       "</table>\n",
       "</div>"
      ],
      "text/plain": [
       "   System  Real or Honeypot                   OS   Port 1   Port 2   Port 3  \\\n",
       "0        0         Honeypot              Solaris   25/tcp   21/tcp  111/tcp   \n",
       "1        1         Honeypot            HP-UX 11i  135/tcp  111/tcp   25/tcp   \n",
       "2        2         Honeypot            HP-UX 11i   80/tcp  111/tcp   21/tcp   \n",
       "3        3         Honeypot  Windows Server 2003  111/tcp   21/tcp  135/tcp   \n",
       "4        4         Honeypot            HP-UX 11i   80/tcp   21/tcp  111/tcp   \n",
       "\n",
       "    Port 4 Service on P1 Service on P2 Service on P3 Service on P4  \\\n",
       "0  135/tcp          smtp           ftp       rpcbind         msrpc   \n",
       "1   80/tcp         msrpc       rpcbind          smtp          http   \n",
       "2   25/tcp          http       rpcbind           ftp          smtp   \n",
       "3   80/tcp       rpcbind           ftp         msrpc          http   \n",
       "4   25/tcp          http           ftp       rpcbind          smtp   \n",
       "\n",
       "  Vulnerability on Port 1 Vulnerability on Port 2 Vulnerability on Port 3  \\\n",
       "0       directory_harvest             brute_force             DDoS_attack   \n",
       "1              DoS_attack             DDoS_attack       directory_harvest   \n",
       "2           sql_injection             DDoS_attack             brute_force   \n",
       "3             DDoS_attack             brute_force              DoS_attack   \n",
       "4           sql_injection             brute_force             DDoS_attack   \n",
       "\n",
       "  Vulnerability on Port 4  \n",
       "0              DoS_attack  \n",
       "1           sql_injection  \n",
       "2       directory_harvest  \n",
       "3           sql_injection  \n",
       "4       directory_harvest  "
      ]
     },
     "execution_count": 4,
     "metadata": {},
     "output_type": "execute_result"
    }
   ],
   "source": [
    "info.head()"
   ]
  },
  {
   "cell_type": "markdown",
   "id": "1b003455",
   "metadata": {},
   "source": [
    "<h3> System to Situation </h3>"
   ]
  },
  {
   "cell_type": "code",
   "execution_count": 5,
   "id": "bf49abb8",
   "metadata": {},
   "outputs": [],
   "source": [
    "system_situation=[] #will store situations of all the systems at any point of time\n",
    "#to get situation of system x at any point of time-- system_situation[x]\n",
    "\n",
    "for i in range(len(info)):\n",
    "    #situation format-[sys_no,exploited,os,(p1,p2,p3,p4),(serv1,serv2,serv3,serv4),(vul1,vul2,vul3,vul4)]\n",
    "    situation=[]\n",
    "    situation.append(info.iloc[i][0]) #sys_number\n",
    "    situation.append(False) #exploitated\n",
    "    situation.append(info.iloc[i][2]) #os\n",
    "    a=info.iloc[i][3] #port1\n",
    "    b=info.iloc[i][4] #port2\n",
    "    c=info.iloc[i][5] #port3\n",
    "    d=info.iloc[i][6] #port4\n",
    "    port=(a,b,c,d)\n",
    "    situation.append(port) #port tuple\n",
    "    a=info.iloc[i][7] #service1\n",
    "    b=info.iloc[i][8] #service2\n",
    "    c=info.iloc[i][9] #service3\n",
    "    d=info.iloc[i][10] #service4\n",
    "    service=(a,b,c,d)\n",
    "    situation.append(service) #service tuple\n",
    "    a=info.iloc[i][11] #vul1\n",
    "    b=info.iloc[i][12] #vul2\n",
    "    c=info.iloc[i][13] #vul3\n",
    "    d=info.iloc[i][14] #vul4\n",
    "    vul=(a,b,c,d)\n",
    "    situation.append(vul) #service tuple\n",
    "    \n",
    "    \n",
    "    #now the situation of a system has been defined-adding it to the system_info list\n",
    "    system_situation.append(situation)"
   ]
  },
  {
   "cell_type": "code",
   "execution_count": 6,
   "id": "6e41f441",
   "metadata": {},
   "outputs": [
    {
     "data": {
      "text/plain": [
       "[39,\n",
       " False,\n",
       " 'Windows Server 2003',\n",
       " ('80/tcp', '135/tcp', '21/tcp', '111/tcp'),\n",
       " ('http', 'msrpc', 'ftp', 'rpcbind'),\n",
       " ('sql_injection', 'DoS_attack', 'brute_force', 'DDoS_attack')]"
      ]
     },
     "execution_count": 6,
     "metadata": {},
     "output_type": "execute_result"
    }
   ],
   "source": [
    "#printing situation of system 39\n",
    "system_situation[39]"
   ]
  },
  {
   "cell_type": "code",
   "execution_count": 7,
   "id": "84ae5e7c",
   "metadata": {
    "scrolled": true
   },
   "outputs": [
    {
     "data": {
      "text/plain": [
       "[4,\n",
       " False,\n",
       " 'HP-UX 11i',\n",
       " ('80/tcp', '21/tcp', '111/tcp', '25/tcp'),\n",
       " ('http', 'ftp', 'rpcbind', 'smtp'),\n",
       " ('sql_injection', 'brute_force', 'DDoS_attack', 'directory_harvest')]"
      ]
     },
     "execution_count": 7,
     "metadata": {},
     "output_type": "execute_result"
    }
   ],
   "source": [
    "#printing situation of system 4\n",
    "system_situation[4]"
   ]
  },
  {
   "cell_type": "code",
   "execution_count": 8,
   "id": "a11937ba",
   "metadata": {},
   "outputs": [],
   "source": [
    "#defining system_situation2- we need to prepopulate with all possible decisions\n",
    "#we need to prepopulate with not only exploitation=False conditions but exploitation=True as well\n",
    "#prepopulation of all possible decisions is done with default utility=10\n",
    "\n",
    "system_situation2=[] \n",
    "#to get situation of system x at any point of time-- system_situation[x]\n",
    "\n",
    "for i in range(len(info)):\n",
    "    #situation format-[sys_no,exploited,os,(p1,p2,p3,p4),(serv1,serv2,serv3,serv4),(vul1,vul2,vul3,vul4)]\n",
    "    situation=[]\n",
    "    situation.append(info.iloc[i][0]) #sys_number\n",
    "    situation.append(True) #exploited\n",
    "    situation.append(info.iloc[i][2]) #os\n",
    "    a=info.iloc[i][3] #port1\n",
    "    b=info.iloc[i][4] #port2\n",
    "    c=info.iloc[i][5] #port3\n",
    "    d=info.iloc[i][6] #port4\n",
    "    port=(a,b,c,d)\n",
    "    situation.append(port) #port tuple\n",
    "    a=info.iloc[i][7] #service1\n",
    "    b=info.iloc[i][8] #service2\n",
    "    c=info.iloc[i][9] #service3\n",
    "    d=info.iloc[i][10] #service4\n",
    "    service=(a,b,c,d)\n",
    "    situation.append(service) #service tuple\n",
    "    a=info.iloc[i][11] #vul1\n",
    "    b=info.iloc[i][12] #vul2\n",
    "    c=info.iloc[i][13] #vul3\n",
    "    d=info.iloc[i][14] #vul4\n",
    "    vul=(a,b,c,d)\n",
    "    situation.append(vul) #service tuple\n",
    "    \n",
    "    \n",
    "    #now the situation of a system has been defined-adding it to the system_info list\n",
    "    system_situation2.append(situation)"
   ]
  },
  {
   "cell_type": "code",
   "execution_count": 11,
   "id": "4127950c",
   "metadata": {},
   "outputs": [
    {
     "data": {
      "text/plain": [
       "[4,\n",
       " True,\n",
       " 'HP-UX 11i',\n",
       " ('80/tcp', '21/tcp', '111/tcp', '25/tcp'),\n",
       " ('http', 'ftp', 'rpcbind', 'smtp'),\n",
       " ('sql_injection', 'brute_force', 'DDoS_attack', 'directory_harvest')]"
      ]
     },
     "execution_count": 11,
     "metadata": {},
     "output_type": "execute_result"
    }
   ],
   "source": [
    "system_situation2[4]"
   ]
  },
  {
   "cell_type": "code",
   "execution_count": 12,
   "id": "5333582b",
   "metadata": {},
   "outputs": [
    {
     "data": {
      "text/plain": [
       "[4,\n",
       " False,\n",
       " 'HP-UX 11i',\n",
       " ('80/tcp', '21/tcp', '111/tcp', '25/tcp'),\n",
       " ('http', 'ftp', 'rpcbind', 'smtp'),\n",
       " ('sql_injection', 'brute_force', 'DDoS_attack', 'directory_harvest')]"
      ]
     },
     "execution_count": 12,
     "metadata": {},
     "output_type": "execute_result"
    }
   ],
   "source": [
    "system_situation[4]"
   ]
  },
  {
   "cell_type": "markdown",
   "id": "f6c93139",
   "metadata": {},
   "source": [
    "<h3> System:Real/Honeypot </h3>"
   ]
  },
  {
   "cell_type": "code",
   "execution_count": 13,
   "id": "5d7f04dd",
   "metadata": {},
   "outputs": [],
   "source": [
    "real=info[\"Real or Honeypot\"]"
   ]
  },
  {
   "cell_type": "code",
   "execution_count": 14,
   "id": "bada7497",
   "metadata": {},
   "outputs": [],
   "source": [
    "real=np.array(real)"
   ]
  },
  {
   "cell_type": "code",
   "execution_count": 15,
   "id": "4088974a",
   "metadata": {},
   "outputs": [],
   "source": [
    "def clean(a):\n",
    "    if a==\"Real\":\n",
    "        return True\n",
    "    return False"
   ]
  },
  {
   "cell_type": "code",
   "execution_count": 16,
   "id": "3a27253b",
   "metadata": {},
   "outputs": [],
   "source": [
    "real=np.array([clean(a) for a in real])"
   ]
  },
  {
   "cell_type": "code",
   "execution_count": 17,
   "id": "2abbac48",
   "metadata": {},
   "outputs": [
    {
     "data": {
      "text/plain": [
       "array([False, False, False, False, False, False, False, False, False,\n",
       "       False,  True, False, False, False, False,  True, False,  True,\n",
       "       False,  True, False, False, False,  True, False, False, False,\n",
       "        True,  True, False, False, False,  True, False, False,  True,\n",
       "       False,  True, False, False])"
      ]
     },
     "execution_count": 17,
     "metadata": {},
     "output_type": "execute_result"
    }
   ],
   "source": [
    "real #1-real,0-honeypot"
   ]
  },
  {
   "cell_type": "code",
   "execution_count": 18,
   "id": "14aea246",
   "metadata": {},
   "outputs": [
    {
     "data": {
      "text/plain": [
       "False"
      ]
     },
     "execution_count": 18,
     "metadata": {},
     "output_type": "execute_result"
    }
   ],
   "source": [
    "#to check if system x is real-- real[x]\n",
    "real[5]"
   ]
  },
  {
   "cell_type": "markdown",
   "id": "a2511111",
   "metadata": {},
   "source": [
    "<h1> Reading Subnet Data </h1>"
   ]
  },
  {
   "cell_type": "code",
   "execution_count": 19,
   "id": "1c590b90",
   "metadata": {},
   "outputs": [],
   "source": [
    "non_subnet=pd.read_excel(\"Cyber Attack Modeling Data-Clean.xlsx\", sheet_name=\"Non_Subnet-Data\")"
   ]
  },
  {
   "cell_type": "code",
   "execution_count": 20,
   "id": "3816743c",
   "metadata": {
    "scrolled": true
   },
   "outputs": [
    {
     "data": {
      "text/html": [
       "<div>\n",
       "<style scoped>\n",
       "    .dataframe tbody tr th:only-of-type {\n",
       "        vertical-align: middle;\n",
       "    }\n",
       "\n",
       "    .dataframe tbody tr th {\n",
       "        vertical-align: top;\n",
       "    }\n",
       "\n",
       "    .dataframe thead th {\n",
       "        text-align: right;\n",
       "    }\n",
       "</style>\n",
       "<table border=\"1\" class=\"dataframe\">\n",
       "  <thead>\n",
       "    <tr style=\"text-align: right;\">\n",
       "      <th></th>\n",
       "      <th>UserID</th>\n",
       "      <th>System Attacked</th>\n",
       "    </tr>\n",
       "  </thead>\n",
       "  <tbody>\n",
       "    <tr>\n",
       "      <th>0</th>\n",
       "      <td>26</td>\n",
       "      <td>0</td>\n",
       "    </tr>\n",
       "    <tr>\n",
       "      <th>1</th>\n",
       "      <td>26</td>\n",
       "      <td>1</td>\n",
       "    </tr>\n",
       "    <tr>\n",
       "      <th>2</th>\n",
       "      <td>26</td>\n",
       "      <td>13</td>\n",
       "    </tr>\n",
       "    <tr>\n",
       "      <th>3</th>\n",
       "      <td>26</td>\n",
       "      <td>13</td>\n",
       "    </tr>\n",
       "    <tr>\n",
       "      <th>4</th>\n",
       "      <td>26</td>\n",
       "      <td>39</td>\n",
       "    </tr>\n",
       "  </tbody>\n",
       "</table>\n",
       "</div>"
      ],
      "text/plain": [
       "   UserID  System Attacked\n",
       "0      26                0\n",
       "1      26                1\n",
       "2      26               13\n",
       "3      26               13\n",
       "4      26               39"
      ]
     },
     "execution_count": 20,
     "metadata": {},
     "output_type": "execute_result"
    }
   ],
   "source": [
    "non_subnet.head()"
   ]
  },
  {
   "cell_type": "code",
   "execution_count": 21,
   "id": "1e36e53a",
   "metadata": {
    "scrolled": true
   },
   "outputs": [
    {
     "data": {
      "text/plain": [
       "array([ 26,  32,  34,  36,  37,  39,  40,  41,  43,  44,  45,  47,  52,\n",
       "        53,  56,  57,  59,  60,  62,  64,  68,  69,  70,  71,  72,  75,\n",
       "        76,  77,  78,  80,  81,  82,  83,  84,  85,  86,  87,  88,  90,\n",
       "        92,  93,  94,  95,  98,  99, 106, 107, 109, 111, 113, 114, 116,\n",
       "       118, 124, 125, 129, 130, 133, 134], dtype=int64)"
      ]
     },
     "execution_count": 21,
     "metadata": {},
     "output_type": "execute_result"
    }
   ],
   "source": [
    "users=pd.unique(non_subnet['UserID'])\n",
    "users"
   ]
  },
  {
   "cell_type": "code",
   "execution_count": 22,
   "id": "bf583421",
   "metadata": {},
   "outputs": [
    {
     "data": {
      "text/html": [
       "<div>\n",
       "<style scoped>\n",
       "    .dataframe tbody tr th:only-of-type {\n",
       "        vertical-align: middle;\n",
       "    }\n",
       "\n",
       "    .dataframe tbody tr th {\n",
       "        vertical-align: top;\n",
       "    }\n",
       "\n",
       "    .dataframe thead th {\n",
       "        text-align: right;\n",
       "    }\n",
       "</style>\n",
       "<table border=\"1\" class=\"dataframe\">\n",
       "  <thead>\n",
       "    <tr style=\"text-align: right;\">\n",
       "      <th></th>\n",
       "      <th>UserID</th>\n",
       "      <th>System Attacked</th>\n",
       "    </tr>\n",
       "  </thead>\n",
       "  <tbody>\n",
       "    <tr>\n",
       "      <th>0</th>\n",
       "      <td>26</td>\n",
       "      <td>0</td>\n",
       "    </tr>\n",
       "    <tr>\n",
       "      <th>1</th>\n",
       "      <td>26</td>\n",
       "      <td>1</td>\n",
       "    </tr>\n",
       "    <tr>\n",
       "      <th>2</th>\n",
       "      <td>26</td>\n",
       "      <td>13</td>\n",
       "    </tr>\n",
       "    <tr>\n",
       "      <th>3</th>\n",
       "      <td>26</td>\n",
       "      <td>13</td>\n",
       "    </tr>\n",
       "    <tr>\n",
       "      <th>4</th>\n",
       "      <td>26</td>\n",
       "      <td>39</td>\n",
       "    </tr>\n",
       "    <tr>\n",
       "      <th>5</th>\n",
       "      <td>26</td>\n",
       "      <td>27</td>\n",
       "    </tr>\n",
       "    <tr>\n",
       "      <th>6</th>\n",
       "      <td>26</td>\n",
       "      <td>26</td>\n",
       "    </tr>\n",
       "    <tr>\n",
       "      <th>7</th>\n",
       "      <td>26</td>\n",
       "      <td>7</td>\n",
       "    </tr>\n",
       "    <tr>\n",
       "      <th>8</th>\n",
       "      <td>26</td>\n",
       "      <td>16</td>\n",
       "    </tr>\n",
       "    <tr>\n",
       "      <th>9</th>\n",
       "      <td>26</td>\n",
       "      <td>18</td>\n",
       "    </tr>\n",
       "    <tr>\n",
       "      <th>10</th>\n",
       "      <td>26</td>\n",
       "      <td>4</td>\n",
       "    </tr>\n",
       "    <tr>\n",
       "      <th>11</th>\n",
       "      <td>26</td>\n",
       "      <td>25</td>\n",
       "    </tr>\n",
       "    <tr>\n",
       "      <th>12</th>\n",
       "      <td>26</td>\n",
       "      <td>5</td>\n",
       "    </tr>\n",
       "    <tr>\n",
       "      <th>13</th>\n",
       "      <td>26</td>\n",
       "      <td>4</td>\n",
       "    </tr>\n",
       "    <tr>\n",
       "      <th>14</th>\n",
       "      <td>26</td>\n",
       "      <td>4</td>\n",
       "    </tr>\n",
       "    <tr>\n",
       "      <th>15</th>\n",
       "      <td>26</td>\n",
       "      <td>8</td>\n",
       "    </tr>\n",
       "    <tr>\n",
       "      <th>16</th>\n",
       "      <td>26</td>\n",
       "      <td>10</td>\n",
       "    </tr>\n",
       "    <tr>\n",
       "      <th>17</th>\n",
       "      <td>26</td>\n",
       "      <td>37</td>\n",
       "    </tr>\n",
       "    <tr>\n",
       "      <th>18</th>\n",
       "      <td>26</td>\n",
       "      <td>24</td>\n",
       "    </tr>\n",
       "    <tr>\n",
       "      <th>19</th>\n",
       "      <td>26</td>\n",
       "      <td>19</td>\n",
       "    </tr>\n",
       "  </tbody>\n",
       "</table>\n",
       "</div>"
      ],
      "text/plain": [
       "    UserID  System Attacked\n",
       "0       26                0\n",
       "1       26                1\n",
       "2       26               13\n",
       "3       26               13\n",
       "4       26               39\n",
       "5       26               27\n",
       "6       26               26\n",
       "7       26                7\n",
       "8       26               16\n",
       "9       26               18\n",
       "10      26                4\n",
       "11      26               25\n",
       "12      26                5\n",
       "13      26                4\n",
       "14      26                4\n",
       "15      26                8\n",
       "16      26               10\n",
       "17      26               37\n",
       "18      26               24\n",
       "19      26               19"
      ]
     },
     "execution_count": 22,
     "metadata": {},
     "output_type": "execute_result"
    }
   ],
   "source": [
    "user_data=non_subnet[non_subnet[\"UserID\"]==26] \n",
    "user_data #data frame for a particular user\n",
    "user_data"
   ]
  },
  {
   "cell_type": "code",
   "execution_count": null,
   "id": "f20b8363",
   "metadata": {},
   "outputs": [],
   "source": []
  },
  {
   "cell_type": "code",
   "execution_count": null,
   "id": "0ac9cda9",
   "metadata": {},
   "outputs": [],
   "source": []
  },
  {
   "cell_type": "code",
   "execution_count": null,
   "id": "a8efafec",
   "metadata": {},
   "outputs": [],
   "source": []
  },
  {
   "cell_type": "markdown",
   "id": "043b5a7b",
   "metadata": {},
   "source": [
    "<h1> pyIBL Simulation </h1>"
   ]
  },
  {
   "cell_type": "markdown",
   "id": "782c7a97",
   "metadata": {},
   "source": [
    "<h3> Utilities </h3>"
   ]
  },
  {
   "cell_type": "code",
   "execution_count": 23,
   "id": "064044f7",
   "metadata": {},
   "outputs": [],
   "source": [
    "def utility_prepopulate(system_attacked):\n",
    "    if real[system_attacked]: #real system\n",
    "        p=np.random.rand() #randomly generates a number between 0 and 1\n",
    "        if p<0.5:\n",
    "            return 2.5\n",
    "        else:\n",
    "            return 5\n",
    "    else: #honeypot\n",
    "        return -5"
   ]
  },
  {
   "cell_type": "code",
   "execution_count": 24,
   "id": "b82e390b",
   "metadata": {},
   "outputs": [],
   "source": [
    "def reward_simulation(choice): #choice-situation is a list with a predefined format\n",
    "    if real[choice[0]]: #real system\n",
    "        if choice[1]==False: #not exploited yet\n",
    "            p=np.random.rand() #randomly generates a number between 0 and 1\n",
    "            if p<0.5:\n",
    "                return 5\n",
    "            else:\n",
    "                return 2.5\n",
    "        else: #already exploited\n",
    "            return -20 #to punish choices of real systems which have already been exploited\n",
    "    else: #honeypot\n",
    "        return -5        "
   ]
  },
  {
   "cell_type": "code",
   "execution_count": 25,
   "id": "de4ce83d",
   "metadata": {},
   "outputs": [],
   "source": [
    "def my_similarity(a,b): #custom similariry function for port list, services list and vulnerability list\n",
    "    #scale=len(a)\n",
    "    a=set(a)\n",
    "    b=set(b)\n",
    "    sim=len(np.union(a,b))/len(a)\n",
    "    return sim"
   ]
  },
  {
   "cell_type": "code",
   "execution_count": 26,
   "id": "5803c683",
   "metadata": {},
   "outputs": [],
   "source": [
    "#situation format-[sys_no,exploited,os,[p1,p2,p3,p4],[serv1,serv2,serv3,serv4],[vul1,vul2,vul3,vul4]]\n",
    "attributes=[\"system_number\",\"exploited\",\"os\",\"ports\",\"services\",\"vulnerabilities\"]"
   ]
  },
  {
   "cell_type": "code",
   "execution_count": 27,
   "id": "62d006dd",
   "metadata": {},
   "outputs": [],
   "source": [
    "#defining the similarity for the attributes as my custom similarity\n",
    "similarity(my_similarity,\"ports\")\n",
    "similarity(my_similarity,\"services\")\n",
    "similarity(my_similarity,\"vulnerabilities\")"
   ]
  },
  {
   "cell_type": "markdown",
   "id": "ccac1c4d",
   "metadata": {},
   "source": [
    "<h3> Defining Agent </h3>"
   ]
  },
  {
   "cell_type": "code",
   "execution_count": 28,
   "id": "390716a8",
   "metadata": {},
   "outputs": [],
   "source": [
    "a = pyibl.Agent(\"Hackit\",attributes,noise=0.25,decay=0.5,mismatch_penalty=1) #defining the agent"
   ]
  },
  {
   "cell_type": "markdown",
   "id": "716069eb",
   "metadata": {},
   "source": [
    "<h3> Simulation </h3>"
   ]
  },
  {
   "cell_type": "code",
   "execution_count": null,
   "id": "35c3e1f0",
   "metadata": {},
   "outputs": [],
   "source": []
  },
  {
   "cell_type": "code",
   "execution_count": 29,
   "id": "5a2f8975",
   "metadata": {},
   "outputs": [
    {
     "name": "stdout",
     "output_type": "stream",
     "text": [
      "Enter the number of times you want to run the simulation: 5\n"
     ]
    }
   ],
   "source": [
    "num=int(input(\"Enter the number of times you want to run the simulation: \"))"
   ]
  },
  {
   "cell_type": "code",
   "execution_count": 30,
   "id": "ac1ee904",
   "metadata": {},
   "outputs": [
    {
     "name": "stderr",
     "output_type": "stream",
     "text": [
      "100%|████████████████████████████████████████████████████████████████████████████████████| 5/5 [00:37<00:00,  7.42s/it]\n"
     ]
    }
   ],
   "source": [
    "simulation_score=np.zeros(num) #stores the average score of users in a simulation across all (num) simulations\n",
    "\n",
    "for i in tqdm(range(num)):\n",
    "    score=0 #total score of all users in a simulation\n",
    "    \n",
    "    for user in users: #for each user\n",
    "        \n",
    "        a.reset() #resetting agent memory before each user begins\n",
    "        copy_system_situation=deepcopy(system_situation) #copy of original-changes in it won't modify original\n",
    "        copy_system_situation2=deepcopy(system_situation2) #copy of original-changes in it won't modify original\n",
    "        \n",
    "        \n",
    "        #prepopulating all decisions with exploitation=False and Default Utility=10\n",
    "        for j in range(len(copy_system_situation)):\n",
    "            utility=10 #default utility\n",
    "            a.populate(utility,copy_system_situation[j])\n",
    "        \n",
    "        #prepopulating all decisions with exploitation=True and Default Utility=10\n",
    "        for j in range(len(copy_system_situation2)):\n",
    "            utility=10 #default utility\n",
    "            a.populate(utility,copy_system_situation2[j])\n",
    "            \n",
    "        #prepopulating instances of that user\n",
    "        user_data=non_subnet[non_subnet[\"UserID\"]==user] \n",
    "        user_data #data frame for a particular user\n",
    "        for j in range(len(user_data)):\n",
    "            system_attacked=user_data.iloc[j][1]\n",
    "            utility=utility_prepopulate(system_attacked)\n",
    "            a.populate(utility,copy_system_situation[system_attacked])\n",
    "        \n",
    "        #now prepopulation of user instances has been done\n",
    "        #simulating pyibl choices-number of choices to be made same as the number of instances prepopulated\n",
    "        for j in range(len(user_data)):\n",
    "            choice=a.choose(copy_system_situation[0],copy_system_situation[1],copy_system_situation[2],copy_system_situation[3],\n",
    "                            copy_system_situation[4],copy_system_situation[5],copy_system_situation[6],copy_system_situation[7],\n",
    "                            copy_system_situation[8],copy_system_situation[9],copy_system_situation[10],copy_system_situation[11],\n",
    "                            copy_system_situation[12],copy_system_situation[13],copy_system_situation[14],copy_system_situation[15],\n",
    "                            copy_system_situation[16],copy_system_situation[17],copy_system_situation[18],copy_system_situation[19],\n",
    "                            copy_system_situation[20],copy_system_situation[21],copy_system_situation[22],copy_system_situation[23],\n",
    "                            copy_system_situation[24],copy_system_situation[25],copy_system_situation[26],copy_system_situation[27],\n",
    "                            copy_system_situation[28],copy_system_situation[29],copy_system_situation[30],copy_system_situation[31],\n",
    "                            copy_system_situation[32],copy_system_situation[33],copy_system_situation[34],copy_system_situation[35],\n",
    "                            copy_system_situation[36],copy_system_situation[37],copy_system_situation[38],copy_system_situation[39])\n",
    "            \n",
    "            reward=reward_simulation(choice)\n",
    "            a.respond(reward)\n",
    "            \n",
    "            if reward==5: #real system exploited\n",
    "                score+=1\n",
    "                system_attacked=choice[0]\n",
    "                copy_system_situation[system_attacked][1]=True #updating the exploited condition\n",
    "    \n",
    "    score=score/len(users) #taking the average score of all the users in the simulation\n",
    "    simulation_score[i]=score"
   ]
  },
  {
   "cell_type": "code",
   "execution_count": 31,
   "id": "fd6e8d98",
   "metadata": {},
   "outputs": [
    {
     "data": {
      "text/plain": [
       "array([1.42372881, 1.57627119, 1.44067797, 1.44067797, 1.45762712])"
      ]
     },
     "execution_count": 31,
     "metadata": {},
     "output_type": "execute_result"
    }
   ],
   "source": [
    "simulation_score"
   ]
  },
  {
   "cell_type": "code",
   "execution_count": null,
   "id": "725f7d41",
   "metadata": {},
   "outputs": [],
   "source": []
  },
  {
   "cell_type": "code",
   "execution_count": null,
   "id": "eb9aefcd",
   "metadata": {},
   "outputs": [],
   "source": []
  },
  {
   "cell_type": "code",
   "execution_count": null,
   "id": "d81dc108",
   "metadata": {},
   "outputs": [],
   "source": []
  },
  {
   "cell_type": "code",
   "execution_count": 30,
   "id": "7a2282ba",
   "metadata": {},
   "outputs": [
    {
     "data": {
      "text/plain": [
       "[[0,\n",
       "  False,\n",
       "  'Solaris',\n",
       "  ('25/tcp', '21/tcp', '111/tcp', '135/tcp'),\n",
       "  ('smtp', 'ftp', 'rpcbind', 'msrpc'),\n",
       "  ('directory_harvest', 'brute_force', 'DDoS_attack', 'DoS_attack')],\n",
       " [1,\n",
       "  False,\n",
       "  'HP-UX 11i',\n",
       "  ('135/tcp', '111/tcp', '25/tcp', '80/tcp'),\n",
       "  ('msrpc', 'rpcbind', 'smtp', 'http'),\n",
       "  ('DoS_attack', 'DDoS_attack', 'directory_harvest', 'sql_injection')],\n",
       " [2,\n",
       "  False,\n",
       "  'HP-UX 11i',\n",
       "  ('80/tcp', '111/tcp', '21/tcp', '25/tcp'),\n",
       "  ('http', 'rpcbind', 'ftp', 'smtp'),\n",
       "  ('sql_injection', 'DDoS_attack', 'brute_force', 'directory_harvest')],\n",
       " [3,\n",
       "  False,\n",
       "  'Windows Server 2003',\n",
       "  ('111/tcp', '21/tcp', '135/tcp', '80/tcp'),\n",
       "  ('rpcbind', 'ftp', 'msrpc', 'http'),\n",
       "  ('DDoS_attack', 'brute_force', 'DoS_attack', 'sql_injection')],\n",
       " [4,\n",
       "  False,\n",
       "  'HP-UX 11i',\n",
       "  ('80/tcp', '21/tcp', '111/tcp', '25/tcp'),\n",
       "  ('http', 'ftp', 'rpcbind', 'smtp'),\n",
       "  ('sql_injection', 'brute_force', 'DDoS_attack', 'directory_harvest')],\n",
       " [5,\n",
       "  False,\n",
       "  'Windows Server 2003',\n",
       "  ('135/tcp', '80/tcp', '111/tcp', '21/tcp'),\n",
       "  ('msrpc', 'http', 'rpcbind', 'ftp'),\n",
       "  ('DoS_attack', 'sql_injection', 'DDoS_attack', 'brute_force')],\n",
       " [6,\n",
       "  False,\n",
       "  'HP-UX 11i',\n",
       "  ('80/tcp', '25/tcp', '21/tcp', '111/tcp'),\n",
       "  ('http', 'smtp', 'ftp', 'rpcbind'),\n",
       "  ('sql_injection', 'directory_harvest', 'brute_force', 'DDoS_attack')],\n",
       " [7,\n",
       "  False,\n",
       "  'HP-UX 11i',\n",
       "  ('135/tcp', '111/tcp', '25/tcp', '21/tcp'),\n",
       "  ('msrpc', 'rpcbind', 'smtp', 'ftp'),\n",
       "  ('DoS_attack', 'DDoS_attack', 'directory_harvest', 'brute_force')],\n",
       " [8,\n",
       "  False,\n",
       "  'Solaris',\n",
       "  ('21/tcp', '111/tcp', '25/tcp', '135/tcp'),\n",
       "  ('ftp', 'rpcbind', 'smtp', 'msrpc'),\n",
       "  ('brute_force', 'DDoS_attack', 'directory_harvest', 'DoS_attack')],\n",
       " [9,\n",
       "  False,\n",
       "  'HP-UX 11i',\n",
       "  ('135/tcp', '111/tcp', '21/tcp', '80/tcp'),\n",
       "  ('msrpc', 'rpcbind', 'ftp', 'http'),\n",
       "  ('DoS_attack', 'DDoS_attack', 'brute_force', 'sql_injection')],\n",
       " [10,\n",
       "  True,\n",
       "  'OpenBSD',\n",
       "  ('443/tcp', '53/tcp', '3306/tcp', '8080/tcp'),\n",
       "  ('https', 'domain', 'MySql', 'apache'),\n",
       "  ('drown_attack', 'DNS_zone_transfer', 'remove_auth', 'url_decoder')],\n",
       " [11,\n",
       "  False,\n",
       "  'HP-UX 11i',\n",
       "  ('111/tcp', '135/tcp', '21/tcp', '80/tcp'),\n",
       "  ('rpcbind', 'msrpc', 'ftp', 'http'),\n",
       "  ('DDoS_attack', 'DoS_attack', 'brute_force', 'sql_injection')],\n",
       " [12,\n",
       "  False,\n",
       "  'Windows XP',\n",
       "  ('135/tcp', '21/tcp', '111/tcp', '80/tcp'),\n",
       "  ('msrpc', 'ftp', 'rpcbind', 'http'),\n",
       "  ('DoS_attack', 'brute_force', 'DDoS_attack', 'sql_injection')],\n",
       " [13,\n",
       "  False,\n",
       "  'HP-UX 11i',\n",
       "  ('135/tcp', '21/tcp', '111/tcp', '25/tcp'),\n",
       "  ('msrpc', 'ftp', 'rpcbind', 'smtp'),\n",
       "  ('DoS_attack', 'brute_force', 'DDoS_attack', 'directory_harvest')],\n",
       " [14,\n",
       "  False,\n",
       "  'Windows XP',\n",
       "  ('25/tcp', '80/tcp', '111/tcp', '21/tcp'),\n",
       "  ('smtp', 'http', 'rpcbind', 'ftp'),\n",
       "  ('directory_harvest', 'sql_injection', 'DDoS_attack', 'brute_force')],\n",
       " [15,\n",
       "  True,\n",
       "  'Linux',\n",
       "  ('443/tcp', '110/tcp', '53/tcp', '5800/tcp'),\n",
       "  ('https', 'pop3', 'domain', 'vncc http'),\n",
       "  ('drown_attack', 'pop3_version', 'DNS_zone_transfer', 'remote_auth')],\n",
       " [16,\n",
       "  False,\n",
       "  'Windows Server 2003',\n",
       "  ('111/tcp', '21/tcp', '25/tcp', '135/tcp'),\n",
       "  ('rpcbind', 'ftp', 'smtp', 'msrpc'),\n",
       "  ('DDoS_attack', 'brute_force', 'directory_harvest', 'DoS_attack')],\n",
       " [17,\n",
       "  True,\n",
       "  'Windows 8',\n",
       "  ('110/tcp', '139/tcp', '5800/tcp', '3306/tcp'),\n",
       "  ('pop3', 'netbios-ssn', 'vncc http', 'MySql'),\n",
       "  ('pop3_version', 'DCOM_buffer_overrun', 'remote_auth', 'remove_auth')],\n",
       " [18,\n",
       "  False,\n",
       "  'Solaris',\n",
       "  ('80/tcp', '111/tcp', '135/tcp', '21/tcp'),\n",
       "  ('http', 'rpcbind', 'msrpc', 'ftp'),\n",
       "  ('sql_injection', 'DDoS_attack', 'DoS_attack', 'brute_force')],\n",
       " [19,\n",
       "  True,\n",
       "  'Linux',\n",
       "  ('445/tcp', '3306/tcp', '139/tcp', '53/tcp'),\n",
       "  ('microsoft-ds', 'MySql', 'netbios-ssn', 'domain'),\n",
       "  ('windows_null_session',\n",
       "   'remove_auth',\n",
       "   'DCOM_buffer_overrun',\n",
       "   'DNS_zone_transfer')],\n",
       " [20,\n",
       "  False,\n",
       "  'Solaris',\n",
       "  ('25/tcp', '80/tcp', '135/tcp', '21/tcp'),\n",
       "  ('smtp', 'http', 'msrpc', 'ftp'),\n",
       "  ('directory_harvest', 'sql_injection', 'DoS_attack', 'brute_force')],\n",
       " [21,\n",
       "  False,\n",
       "  'HP-UX 11i',\n",
       "  ('111/tcp', '80/tcp', '25/tcp', '21/tcp'),\n",
       "  ('rpcbind', 'http', 'smtp', 'ftp'),\n",
       "  ('DDoS_attack', 'sql_injection', 'directory_harvest', 'brute_force')],\n",
       " [22,\n",
       "  False,\n",
       "  'Solaris',\n",
       "  ('21/tcp', '25/tcp', '80/tcp', '135/tcp'),\n",
       "  ('ftp', 'smtp', 'http', 'msrpc'),\n",
       "  ('brute_force', 'directory_harvest', 'sql_injection', 'DoS_attack')],\n",
       " [23,\n",
       "  True,\n",
       "  'Mac OS X',\n",
       "  ('443/tcp', '445/tcp', '6112/tcp', '139/tcp'),\n",
       "  ('https', 'microsoft-ds', 'dtspc', 'netbios-ssn'),\n",
       "  ('drown_attack',\n",
       "   'windows_null_session',\n",
       "   'remote_exploit_buffer_overflow',\n",
       "   'DCOM_buffer_overrun')],\n",
       " [24,\n",
       "  False,\n",
       "  'Solaris',\n",
       "  ('111/tcp', '21/tcp', '25/tcp', '80/tcp'),\n",
       "  ('rpcbind', 'ftp', 'smtp', 'http'),\n",
       "  ('DDoS_attack', 'brute_force', 'directory_harvest', 'sql_injection')],\n",
       " [25,\n",
       "  False,\n",
       "  'Windows Server 2003',\n",
       "  ('21/tcp', '135/tcp', '80/tcp', '111/tcp'),\n",
       "  ('ftp', 'msrpc', 'http', 'rpcbind'),\n",
       "  ('brute_force', 'DoS_attack', 'sql_injection', 'DDoS_attack')],\n",
       " [26,\n",
       "  False,\n",
       "  'HP-UX 11i',\n",
       "  ('135/tcp', '25/tcp', '111/tcp', '21/tcp'),\n",
       "  ('msrpc', 'smtp', 'rpcbind', 'ftp'),\n",
       "  ('DoS_attack', 'directory_harvest', 'DDoS_attack', 'brute_force')],\n",
       " [27,\n",
       "  True,\n",
       "  'Windows 8',\n",
       "  ('53/tcp', '5900/tcp', '22/tcp', '445/tcp'),\n",
       "  ('domain', 'vncc http', 'ssh', 'microsoft-ds'),\n",
       "  ('DNS_zone_transfer', 'remote_auth', 'user_auth', 'windows_null_session')],\n",
       " [28,\n",
       "  True,\n",
       "  'OpenBSD',\n",
       "  ('6112/tcp', '53/tcp', '5800/tcp', '22/tcp'),\n",
       "  ('dtspc', 'domain', 'vncc http', 'ssh'),\n",
       "  ('remote_exploit_buffer_overflow',\n",
       "   'DNS_zone_transfer',\n",
       "   'remote_auth',\n",
       "   'user_auth')],\n",
       " [29,\n",
       "  False,\n",
       "  'HP-UX 11i',\n",
       "  ('135/tcp', '25/tcp', '111/tcp', '21/tcp'),\n",
       "  ('msrpc', 'smtp', 'rpcbind', 'ftp'),\n",
       "  ('DoS_attack', 'directory_harvest', 'DDoS_attack', 'brute_force')],\n",
       " [30,\n",
       "  False,\n",
       "  'HP-UX 11i',\n",
       "  ('80/tcp', '111/tcp', '25/tcp', '21/tcp'),\n",
       "  ('http', 'rpcbind', 'smtp', 'ftp'),\n",
       "  ('sql_injection', 'DDoS_attack', 'directory_harvest', 'brute_force')],\n",
       " [31,\n",
       "  False,\n",
       "  'Windows Server 2003',\n",
       "  ('111/tcp', '135/tcp', '25/tcp', '80/tcp'),\n",
       "  ('rpcbind', 'msrpc', 'smtp', 'http'),\n",
       "  ('DDoS_attack', 'DoS_attack', 'directory_harvest', 'sql_injection')],\n",
       " [32,\n",
       "  True,\n",
       "  'Mac OS X',\n",
       "  ('6112/tcp', '445/tcp', '110/tcp', '139/tcp'),\n",
       "  ('dtspc', 'microsoft-ds', 'pop3', 'netbios-ssn'),\n",
       "  ('remote_exploit_buffer_overflow',\n",
       "   'windows_null_session',\n",
       "   'pop3_version',\n",
       "   'DCOM_buffer_overrun')],\n",
       " [33,\n",
       "  False,\n",
       "  'Windows Server 2003',\n",
       "  ('21/tcp', '135/tcp', '25/tcp', '111/tcp'),\n",
       "  ('ftp', 'msrpc', 'smtp', 'rpcbind'),\n",
       "  ('brute_force', 'DoS_attack', 'directory_harvest', 'DDoS_attack')],\n",
       " [34,\n",
       "  False,\n",
       "  'HP-UX 11i',\n",
       "  ('21/tcp', '135/tcp', '80/tcp', '111/tcp'),\n",
       "  ('ftp', 'msrpc', 'http', 'rpcbind'),\n",
       "  ('brute_force', 'DoS_attack', 'sql_injection', 'DDoS_attack')],\n",
       " [35,\n",
       "  True,\n",
       "  'Mac OS X',\n",
       "  ('5900/tcp', '53/tcp', '5800/tcp', '6112/tcp'),\n",
       "  ('vncc http', 'domain', 'vncc http', 'dtspc'),\n",
       "  ('remote_auth',\n",
       "   'DNS_zone_transfer',\n",
       "   'remote_auth',\n",
       "   'remote_exploit_buffer_overflow')],\n",
       " [36,\n",
       "  False,\n",
       "  'Windows Server 2003',\n",
       "  ('135/tcp', '25/tcp', '21/tcp', '80/tcp'),\n",
       "  ('msrpc', 'smtp', 'ftp', 'http'),\n",
       "  ('DoS_attack', 'directory_harvest', 'brute_force', 'sql_injection')],\n",
       " [37,\n",
       "  True,\n",
       "  'OpenBSD',\n",
       "  ('139/tcp', '443/tcp', '8080/tcp', '5900/tcp'),\n",
       "  ('netbios-ssn', 'https', 'apache', 'vncc http'),\n",
       "  ('DCOM_buffer_overrun', 'drown_attack', 'url_decoder', 'remote_auth')],\n",
       " [38,\n",
       "  False,\n",
       "  'HP-UX 11i',\n",
       "  ('135/tcp', '111/tcp', '21/tcp', '80/tcp'),\n",
       "  ('msrpc', 'rpcbind', 'ftp', 'http'),\n",
       "  ('DoS_attack', 'DDoS_attack', 'brute_force', 'sql_injection')],\n",
       " [39,\n",
       "  False,\n",
       "  'Windows Server 2003',\n",
       "  ('80/tcp', '135/tcp', '21/tcp', '111/tcp'),\n",
       "  ('http', 'msrpc', 'ftp', 'rpcbind'),\n",
       "  ('sql_injection', 'DoS_attack', 'brute_force', 'DDoS_attack')]]"
      ]
     },
     "execution_count": 30,
     "metadata": {},
     "output_type": "execute_result"
    }
   ],
   "source": [
    "system_situation"
   ]
  },
  {
   "cell_type": "code",
   "execution_count": null,
   "id": "c8b841ef",
   "metadata": {},
   "outputs": [],
   "source": []
  },
  {
   "cell_type": "code",
   "execution_count": null,
   "id": "311e4f07",
   "metadata": {},
   "outputs": [],
   "source": []
  },
  {
   "cell_type": "code",
   "execution_count": null,
   "id": "fb7d5d6c",
   "metadata": {},
   "outputs": [],
   "source": []
  },
  {
   "cell_type": "code",
   "execution_count": 30,
   "id": "b25fefb9",
   "metadata": {},
   "outputs": [
    {
     "data": {
      "text/plain": [
       "array([0.22727273, 0.        , 0.        , 0.        , 0.        ])"
      ]
     },
     "execution_count": 30,
     "metadata": {},
     "output_type": "execute_result"
    }
   ],
   "source": [
    "simulation_score"
   ]
  },
  {
   "cell_type": "code",
   "execution_count": 34,
   "id": "023ae286",
   "metadata": {},
   "outputs": [
    {
     "data": {
      "text/plain": [
       "array([0., 0., 0., 0., 0.])"
      ]
     },
     "execution_count": 34,
     "metadata": {},
     "output_type": "execute_result"
    }
   ],
   "source": [
    "simulation_score"
   ]
  },
  {
   "cell_type": "code",
   "execution_count": null,
   "id": "58d957d6",
   "metadata": {},
   "outputs": [],
   "source": []
  },
  {
   "cell_type": "code",
   "execution_count": null,
   "id": "38212fb0",
   "metadata": {},
   "outputs": [],
   "source": []
  },
  {
   "cell_type": "code",
   "execution_count": 100,
   "id": "541bd456",
   "metadata": {},
   "outputs": [],
   "source": [
    "#simulation_score=np.zeros(num) #stores the average score of users in a simulation across all (num) simulations\n",
    "\n",
    "#for i in tqdm(range(num)):\n",
    "score=0 #total score of all users in a simulation\n",
    "    \n",
    "user=25\n",
    "        \n",
    "a.reset() #resetting agent memory before each user begins\n",
    "        \n",
    "#prepopulating all decisions with exploitation=False and Default Utility=10\n",
    "for j in range(len(system_situation)):\n",
    "    utility=10 #default utility\n",
    "    a.populate(utility,system_situation[j])\n",
    "        \n",
    "#prepopulating all decisions with exploitation=True and Default Utility=10\n",
    "for j in range(len(system_situation2)):\n",
    "    utility=10 #default utility\n",
    "    a.populate(utility,system_situation2[j])\n",
    "            \n",
    "#prepopulating instances of that user\n",
    "user_data=subnet[subnet[\"UserID\"]==user] \n",
    "user_data #data frame for a particular user\n",
    "for j in range(len(user_data)):\n",
    "    system_attacked=user_data.iloc[j][1]\n",
    "    utility=utility_prepopulate(system_attacked)\n",
    "    a.populate(utility,system_situation[system_attacked])"
   ]
  },
  {
   "cell_type": "code",
   "execution_count": 101,
   "id": "cdf5be08",
   "metadata": {},
   "outputs": [],
   "source": [
    " choice=a.choose(system_situation[0],system_situation[1],system_situation[2],system_situation[3],\n",
    "                            system_situation[4],system_situation[5],system_situation[6],system_situation[7],\n",
    "                            system_situation[8],system_situation[9],system_situation[10],system_situation[11],\n",
    "                            system_situation[12],system_situation[13],system_situation[14],system_situation[15],\n",
    "                            system_situation[16],system_situation[17],system_situation[18],system_situation[19],\n",
    "                            system_situation[20],system_situation[21],system_situation[22],system_situation[23],\n",
    "                            system_situation[24],system_situation[25],system_situation[26],system_situation[27],\n",
    "                            system_situation[28],system_situation[29],system_situation[30],system_situation[31],\n",
    "                            system_situation[32],system_situation[33],system_situation[34],system_situation[35],\n",
    "                            system_situation[36],system_situation[37],system_situation[38],system_situation[39])\n",
    "            "
   ]
  },
  {
   "cell_type": "code",
   "execution_count": 103,
   "id": "bc7fc7f1",
   "metadata": {},
   "outputs": [
    {
     "data": {
      "text/plain": [
       "[12,\n",
       " True,\n",
       " 'Windows XP',\n",
       " ('135/tcp', '21/tcp', '111/tcp', '80/tcp'),\n",
       " ('msrpc', 'ftp', 'rpcbind', 'http'),\n",
       " ('DoS_attack', 'brute_force', 'DDoS_attack', 'sql_injection')]"
      ]
     },
     "execution_count": 103,
     "metadata": {},
     "output_type": "execute_result"
    }
   ],
   "source": [
    "choice"
   ]
  },
  {
   "cell_type": "code",
   "execution_count": 104,
   "id": "48918ef9",
   "metadata": {},
   "outputs": [
    {
     "data": {
      "text/plain": [
       "[[0,\n",
       "  True,\n",
       "  'Solaris',\n",
       "  ('25/tcp', '21/tcp', '111/tcp', '135/tcp'),\n",
       "  ('smtp', 'ftp', 'rpcbind', 'msrpc'),\n",
       "  ('directory_harvest', 'brute_force', 'DDoS_attack', 'DoS_attack')],\n",
       " [1,\n",
       "  True,\n",
       "  'HP-UX 11i',\n",
       "  ('135/tcp', '111/tcp', '25/tcp', '80/tcp'),\n",
       "  ('msrpc', 'rpcbind', 'smtp', 'http'),\n",
       "  ('DoS_attack', 'DDoS_attack', 'directory_harvest', 'sql_injection')],\n",
       " [2,\n",
       "  True,\n",
       "  'HP-UX 11i',\n",
       "  ('80/tcp', '111/tcp', '21/tcp', '25/tcp'),\n",
       "  ('http', 'rpcbind', 'ftp', 'smtp'),\n",
       "  ('sql_injection', 'DDoS_attack', 'brute_force', 'directory_harvest')],\n",
       " [3,\n",
       "  True,\n",
       "  'Windows Server 2003',\n",
       "  ('111/tcp', '21/tcp', '135/tcp', '80/tcp'),\n",
       "  ('rpcbind', 'ftp', 'msrpc', 'http'),\n",
       "  ('DDoS_attack', 'brute_force', 'DoS_attack', 'sql_injection')],\n",
       " [4,\n",
       "  True,\n",
       "  'HP-UX 11i',\n",
       "  ('80/tcp', '21/tcp', '111/tcp', '25/tcp'),\n",
       "  ('http', 'ftp', 'rpcbind', 'smtp'),\n",
       "  ('sql_injection', 'brute_force', 'DDoS_attack', 'directory_harvest')],\n",
       " [5,\n",
       "  True,\n",
       "  'Windows Server 2003',\n",
       "  ('135/tcp', '80/tcp', '111/tcp', '21/tcp'),\n",
       "  ('msrpc', 'http', 'rpcbind', 'ftp'),\n",
       "  ('DoS_attack', 'sql_injection', 'DDoS_attack', 'brute_force')],\n",
       " [6,\n",
       "  True,\n",
       "  'HP-UX 11i',\n",
       "  ('80/tcp', '25/tcp', '21/tcp', '111/tcp'),\n",
       "  ('http', 'smtp', 'ftp', 'rpcbind'),\n",
       "  ('sql_injection', 'directory_harvest', 'brute_force', 'DDoS_attack')],\n",
       " [7,\n",
       "  True,\n",
       "  'HP-UX 11i',\n",
       "  ('135/tcp', '111/tcp', '25/tcp', '21/tcp'),\n",
       "  ('msrpc', 'rpcbind', 'smtp', 'ftp'),\n",
       "  ('DoS_attack', 'DDoS_attack', 'directory_harvest', 'brute_force')],\n",
       " [8,\n",
       "  True,\n",
       "  'Solaris',\n",
       "  ('21/tcp', '111/tcp', '25/tcp', '135/tcp'),\n",
       "  ('ftp', 'rpcbind', 'smtp', 'msrpc'),\n",
       "  ('brute_force', 'DDoS_attack', 'directory_harvest', 'DoS_attack')],\n",
       " [9,\n",
       "  True,\n",
       "  'HP-UX 11i',\n",
       "  ('135/tcp', '111/tcp', '21/tcp', '80/tcp'),\n",
       "  ('msrpc', 'rpcbind', 'ftp', 'http'),\n",
       "  ('DoS_attack', 'DDoS_attack', 'brute_force', 'sql_injection')],\n",
       " [10,\n",
       "  True,\n",
       "  'OpenBSD',\n",
       "  ('443/tcp', '53/tcp', '3306/tcp', '8080/tcp'),\n",
       "  ('https', 'domain', 'MySql', 'apache'),\n",
       "  ('drown_attack', 'DNS_zone_transfer', 'remove_auth', 'url_decoder')],\n",
       " [11,\n",
       "  True,\n",
       "  'HP-UX 11i',\n",
       "  ('111/tcp', '135/tcp', '21/tcp', '80/tcp'),\n",
       "  ('rpcbind', 'msrpc', 'ftp', 'http'),\n",
       "  ('DDoS_attack', 'DoS_attack', 'brute_force', 'sql_injection')],\n",
       " [12,\n",
       "  True,\n",
       "  'Windows XP',\n",
       "  ('135/tcp', '21/tcp', '111/tcp', '80/tcp'),\n",
       "  ('msrpc', 'ftp', 'rpcbind', 'http'),\n",
       "  ('DoS_attack', 'brute_force', 'DDoS_attack', 'sql_injection')],\n",
       " [13,\n",
       "  True,\n",
       "  'HP-UX 11i',\n",
       "  ('135/tcp', '21/tcp', '111/tcp', '25/tcp'),\n",
       "  ('msrpc', 'ftp', 'rpcbind', 'smtp'),\n",
       "  ('DoS_attack', 'brute_force', 'DDoS_attack', 'directory_harvest')],\n",
       " [14,\n",
       "  True,\n",
       "  'Windows XP',\n",
       "  ('25/tcp', '80/tcp', '111/tcp', '21/tcp'),\n",
       "  ('smtp', 'http', 'rpcbind', 'ftp'),\n",
       "  ('directory_harvest', 'sql_injection', 'DDoS_attack', 'brute_force')],\n",
       " [15,\n",
       "  True,\n",
       "  'Linux',\n",
       "  ('443/tcp', '110/tcp', '53/tcp', '5800/tcp'),\n",
       "  ('https', 'pop3', 'domain', 'vncc http'),\n",
       "  ('drown_attack', 'pop3_version', 'DNS_zone_transfer', 'remote_auth')],\n",
       " [16,\n",
       "  True,\n",
       "  'Windows Server 2003',\n",
       "  ('111/tcp', '21/tcp', '25/tcp', '135/tcp'),\n",
       "  ('rpcbind', 'ftp', 'smtp', 'msrpc'),\n",
       "  ('DDoS_attack', 'brute_force', 'directory_harvest', 'DoS_attack')],\n",
       " [17,\n",
       "  True,\n",
       "  'Windows 8',\n",
       "  ('110/tcp', '139/tcp', '5800/tcp', '3306/tcp'),\n",
       "  ('pop3', 'netbios-ssn', 'vncc http', 'MySql'),\n",
       "  ('pop3_version', 'DCOM_buffer_overrun', 'remote_auth', 'remove_auth')],\n",
       " [18,\n",
       "  True,\n",
       "  'Solaris',\n",
       "  ('80/tcp', '111/tcp', '135/tcp', '21/tcp'),\n",
       "  ('http', 'rpcbind', 'msrpc', 'ftp'),\n",
       "  ('sql_injection', 'DDoS_attack', 'DoS_attack', 'brute_force')],\n",
       " [19,\n",
       "  True,\n",
       "  'Linux',\n",
       "  ('445/tcp', '3306/tcp', '139/tcp', '53/tcp'),\n",
       "  ('microsoft-ds', 'MySql', 'netbios-ssn', 'domain'),\n",
       "  ('windows_null_session',\n",
       "   'remove_auth',\n",
       "   'DCOM_buffer_overrun',\n",
       "   'DNS_zone_transfer')],\n",
       " [20,\n",
       "  True,\n",
       "  'Solaris',\n",
       "  ('25/tcp', '80/tcp', '135/tcp', '21/tcp'),\n",
       "  ('smtp', 'http', 'msrpc', 'ftp'),\n",
       "  ('directory_harvest', 'sql_injection', 'DoS_attack', 'brute_force')],\n",
       " [21,\n",
       "  True,\n",
       "  'HP-UX 11i',\n",
       "  ('111/tcp', '80/tcp', '25/tcp', '21/tcp'),\n",
       "  ('rpcbind', 'http', 'smtp', 'ftp'),\n",
       "  ('DDoS_attack', 'sql_injection', 'directory_harvest', 'brute_force')],\n",
       " [22,\n",
       "  True,\n",
       "  'Solaris',\n",
       "  ('21/tcp', '25/tcp', '80/tcp', '135/tcp'),\n",
       "  ('ftp', 'smtp', 'http', 'msrpc'),\n",
       "  ('brute_force', 'directory_harvest', 'sql_injection', 'DoS_attack')],\n",
       " [23,\n",
       "  True,\n",
       "  'Mac OS X',\n",
       "  ('443/tcp', '445/tcp', '6112/tcp', '139/tcp'),\n",
       "  ('https', 'microsoft-ds', 'dtspc', 'netbios-ssn'),\n",
       "  ('drown_attack',\n",
       "   'windows_null_session',\n",
       "   'remote_exploit_buffer_overflow',\n",
       "   'DCOM_buffer_overrun')],\n",
       " [24,\n",
       "  True,\n",
       "  'Solaris',\n",
       "  ('111/tcp', '21/tcp', '25/tcp', '80/tcp'),\n",
       "  ('rpcbind', 'ftp', 'smtp', 'http'),\n",
       "  ('DDoS_attack', 'brute_force', 'directory_harvest', 'sql_injection')],\n",
       " [25,\n",
       "  True,\n",
       "  'Windows Server 2003',\n",
       "  ('21/tcp', '135/tcp', '80/tcp', '111/tcp'),\n",
       "  ('ftp', 'msrpc', 'http', 'rpcbind'),\n",
       "  ('brute_force', 'DoS_attack', 'sql_injection', 'DDoS_attack')],\n",
       " [26,\n",
       "  True,\n",
       "  'HP-UX 11i',\n",
       "  ('135/tcp', '25/tcp', '111/tcp', '21/tcp'),\n",
       "  ('msrpc', 'smtp', 'rpcbind', 'ftp'),\n",
       "  ('DoS_attack', 'directory_harvest', 'DDoS_attack', 'brute_force')],\n",
       " [27,\n",
       "  True,\n",
       "  'Windows 8',\n",
       "  ('53/tcp', '5900/tcp', '22/tcp', '445/tcp'),\n",
       "  ('domain', 'vncc http', 'ssh', 'microsoft-ds'),\n",
       "  ('DNS_zone_transfer', 'remote_auth', 'user_auth', 'windows_null_session')],\n",
       " [28,\n",
       "  True,\n",
       "  'OpenBSD',\n",
       "  ('6112/tcp', '53/tcp', '5800/tcp', '22/tcp'),\n",
       "  ('dtspc', 'domain', 'vncc http', 'ssh'),\n",
       "  ('remote_exploit_buffer_overflow',\n",
       "   'DNS_zone_transfer',\n",
       "   'remote_auth',\n",
       "   'user_auth')],\n",
       " [29,\n",
       "  True,\n",
       "  'HP-UX 11i',\n",
       "  ('135/tcp', '25/tcp', '111/tcp', '21/tcp'),\n",
       "  ('msrpc', 'smtp', 'rpcbind', 'ftp'),\n",
       "  ('DoS_attack', 'directory_harvest', 'DDoS_attack', 'brute_force')],\n",
       " [30,\n",
       "  True,\n",
       "  'HP-UX 11i',\n",
       "  ('80/tcp', '111/tcp', '25/tcp', '21/tcp'),\n",
       "  ('http', 'rpcbind', 'smtp', 'ftp'),\n",
       "  ('sql_injection', 'DDoS_attack', 'directory_harvest', 'brute_force')],\n",
       " [31,\n",
       "  True,\n",
       "  'Windows Server 2003',\n",
       "  ('111/tcp', '135/tcp', '25/tcp', '80/tcp'),\n",
       "  ('rpcbind', 'msrpc', 'smtp', 'http'),\n",
       "  ('DDoS_attack', 'DoS_attack', 'directory_harvest', 'sql_injection')],\n",
       " [32,\n",
       "  True,\n",
       "  'Mac OS X',\n",
       "  ('6112/tcp', '445/tcp', '110/tcp', '139/tcp'),\n",
       "  ('dtspc', 'microsoft-ds', 'pop3', 'netbios-ssn'),\n",
       "  ('remote_exploit_buffer_overflow',\n",
       "   'windows_null_session',\n",
       "   'pop3_version',\n",
       "   'DCOM_buffer_overrun')],\n",
       " [33,\n",
       "  True,\n",
       "  'Windows Server 2003',\n",
       "  ('21/tcp', '135/tcp', '25/tcp', '111/tcp'),\n",
       "  ('ftp', 'msrpc', 'smtp', 'rpcbind'),\n",
       "  ('brute_force', 'DoS_attack', 'directory_harvest', 'DDoS_attack')],\n",
       " [34,\n",
       "  True,\n",
       "  'HP-UX 11i',\n",
       "  ('21/tcp', '135/tcp', '80/tcp', '111/tcp'),\n",
       "  ('ftp', 'msrpc', 'http', 'rpcbind'),\n",
       "  ('brute_force', 'DoS_attack', 'sql_injection', 'DDoS_attack')],\n",
       " [35,\n",
       "  True,\n",
       "  'Mac OS X',\n",
       "  ('5900/tcp', '53/tcp', '5800/tcp', '6112/tcp'),\n",
       "  ('vncc http', 'domain', 'vncc http', 'dtspc'),\n",
       "  ('remote_auth',\n",
       "   'DNS_zone_transfer',\n",
       "   'remote_auth',\n",
       "   'remote_exploit_buffer_overflow')],\n",
       " [36,\n",
       "  True,\n",
       "  'Windows Server 2003',\n",
       "  ('135/tcp', '25/tcp', '21/tcp', '80/tcp'),\n",
       "  ('msrpc', 'smtp', 'ftp', 'http'),\n",
       "  ('DoS_attack', 'directory_harvest', 'brute_force', 'sql_injection')],\n",
       " [37,\n",
       "  True,\n",
       "  'OpenBSD',\n",
       "  ('139/tcp', '443/tcp', '8080/tcp', '5900/tcp'),\n",
       "  ('netbios-ssn', 'https', 'apache', 'vncc http'),\n",
       "  ('DCOM_buffer_overrun', 'drown_attack', 'url_decoder', 'remote_auth')],\n",
       " [38,\n",
       "  True,\n",
       "  'HP-UX 11i',\n",
       "  ('135/tcp', '111/tcp', '21/tcp', '80/tcp'),\n",
       "  ('msrpc', 'rpcbind', 'ftp', 'http'),\n",
       "  ('DoS_attack', 'DDoS_attack', 'brute_force', 'sql_injection')],\n",
       " [39,\n",
       "  True,\n",
       "  'Windows Server 2003',\n",
       "  ('80/tcp', '135/tcp', '21/tcp', '111/tcp'),\n",
       "  ('http', 'msrpc', 'ftp', 'rpcbind'),\n",
       "  ('sql_injection', 'DoS_attack', 'brute_force', 'DDoS_attack')]]"
      ]
     },
     "execution_count": 104,
     "metadata": {},
     "output_type": "execute_result"
    }
   ],
   "source": [
    "system_situation"
   ]
  },
  {
   "cell_type": "code",
   "execution_count": null,
   "id": "508faee9",
   "metadata": {},
   "outputs": [],
   "source": []
  },
  {
   "cell_type": "code",
   "execution_count": null,
   "id": "d98a46da",
   "metadata": {},
   "outputs": [],
   "source": []
  },
  {
   "cell_type": "code",
   "execution_count": null,
   "id": "1c54606c",
   "metadata": {},
   "outputs": [],
   "source": []
  },
  {
   "cell_type": "code",
   "execution_count": null,
   "id": "86a29fd9",
   "metadata": {},
   "outputs": [],
   "source": []
  },
  {
   "cell_type": "code",
   "execution_count": null,
   "id": "99be4b82",
   "metadata": {},
   "outputs": [],
   "source": []
  },
  {
   "cell_type": "code",
   "execution_count": null,
   "id": "d5597274",
   "metadata": {},
   "outputs": [],
   "source": []
  },
  {
   "cell_type": "code",
   "execution_count": null,
   "id": "e36db5e3",
   "metadata": {},
   "outputs": [],
   "source": []
  },
  {
   "cell_type": "code",
   "execution_count": 78,
   "id": "7eb39670",
   "metadata": {},
   "outputs": [],
   "source": [
    "from pprint import pprint\n",
    "a.populate(10,[39,\n",
    " False,\n",
    " 'Windows Server 2003',\n",
    " ('80/tcp', '135/tcp', '21/tcp', '111/tcp'),\n",
    " ('http', 'msrpc', 'ftp', 'rpcbind'),\n",
    " ('sql_injection', 'DoS_attack', 'brute_force', 'DDoS_attack')])"
   ]
  },
  {
   "cell_type": "code",
   "execution_count": 84,
   "id": "af53e62d",
   "metadata": {},
   "outputs": [
    {
     "ename": "RuntimeError",
     "evalue": "No experience available for choice [0, True, 'Solaris', ('25/tcp', '21/tcp', '111/tcp', '135/tcp'), ('smtp', 'ftp', 'rpcbind', 'msrpc'), ('directory_harvest', 'brute_force', 'DDoS_attack', 'DoS_attack')]",
     "output_type": "error",
     "traceback": [
      "\u001b[1;31m---------------------------------------------------------------------------\u001b[0m",
      "\u001b[1;31mRuntimeError\u001b[0m                              Traceback (most recent call last)",
      "\u001b[1;32m<ipython-input-84-12fcb5045d8d>\u001b[0m in \u001b[0;36m<module>\u001b[1;34m\u001b[0m\n\u001b[1;32m----> 1\u001b[1;33m choice=a.choose(system_situation[0],system_situation[1],system_situation[2],system_situation[3],\n\u001b[0m\u001b[0;32m      2\u001b[0m                             \u001b[0msystem_situation\u001b[0m\u001b[1;33m[\u001b[0m\u001b[1;36m4\u001b[0m\u001b[1;33m]\u001b[0m\u001b[1;33m,\u001b[0m\u001b[0msystem_situation\u001b[0m\u001b[1;33m[\u001b[0m\u001b[1;36m5\u001b[0m\u001b[1;33m]\u001b[0m\u001b[1;33m,\u001b[0m\u001b[0msystem_situation\u001b[0m\u001b[1;33m[\u001b[0m\u001b[1;36m6\u001b[0m\u001b[1;33m]\u001b[0m\u001b[1;33m,\u001b[0m\u001b[0msystem_situation\u001b[0m\u001b[1;33m[\u001b[0m\u001b[1;36m7\u001b[0m\u001b[1;33m]\u001b[0m\u001b[1;33m,\u001b[0m\u001b[1;33m\u001b[0m\u001b[1;33m\u001b[0m\u001b[0m\n\u001b[0;32m      3\u001b[0m                             \u001b[0msystem_situation\u001b[0m\u001b[1;33m[\u001b[0m\u001b[1;36m8\u001b[0m\u001b[1;33m]\u001b[0m\u001b[1;33m,\u001b[0m\u001b[0msystem_situation\u001b[0m\u001b[1;33m[\u001b[0m\u001b[1;36m9\u001b[0m\u001b[1;33m]\u001b[0m\u001b[1;33m,\u001b[0m\u001b[0msystem_situation\u001b[0m\u001b[1;33m[\u001b[0m\u001b[1;36m10\u001b[0m\u001b[1;33m]\u001b[0m\u001b[1;33m,\u001b[0m\u001b[0msystem_situation\u001b[0m\u001b[1;33m[\u001b[0m\u001b[1;36m11\u001b[0m\u001b[1;33m]\u001b[0m\u001b[1;33m,\u001b[0m\u001b[1;33m\u001b[0m\u001b[1;33m\u001b[0m\u001b[0m\n\u001b[0;32m      4\u001b[0m                             \u001b[0msystem_situation\u001b[0m\u001b[1;33m[\u001b[0m\u001b[1;36m12\u001b[0m\u001b[1;33m]\u001b[0m\u001b[1;33m,\u001b[0m\u001b[0msystem_situation\u001b[0m\u001b[1;33m[\u001b[0m\u001b[1;36m13\u001b[0m\u001b[1;33m]\u001b[0m\u001b[1;33m,\u001b[0m\u001b[0msystem_situation\u001b[0m\u001b[1;33m[\u001b[0m\u001b[1;36m14\u001b[0m\u001b[1;33m]\u001b[0m\u001b[1;33m,\u001b[0m\u001b[0msystem_situation\u001b[0m\u001b[1;33m[\u001b[0m\u001b[1;36m15\u001b[0m\u001b[1;33m]\u001b[0m\u001b[1;33m,\u001b[0m\u001b[1;33m\u001b[0m\u001b[1;33m\u001b[0m\u001b[0m\n\u001b[0;32m      5\u001b[0m                             \u001b[0msystem_situation\u001b[0m\u001b[1;33m[\u001b[0m\u001b[1;36m16\u001b[0m\u001b[1;33m]\u001b[0m\u001b[1;33m,\u001b[0m\u001b[0msystem_situation\u001b[0m\u001b[1;33m[\u001b[0m\u001b[1;36m17\u001b[0m\u001b[1;33m]\u001b[0m\u001b[1;33m,\u001b[0m\u001b[0msystem_situation\u001b[0m\u001b[1;33m[\u001b[0m\u001b[1;36m18\u001b[0m\u001b[1;33m]\u001b[0m\u001b[1;33m,\u001b[0m\u001b[0msystem_situation\u001b[0m\u001b[1;33m[\u001b[0m\u001b[1;36m19\u001b[0m\u001b[1;33m]\u001b[0m\u001b[1;33m,\u001b[0m\u001b[1;33m\u001b[0m\u001b[1;33m\u001b[0m\u001b[0m\n",
      "\u001b[1;32m~\\anaconda3\\lib\\site-packages\\pyibl.py\u001b[0m in \u001b[0;36mchoose\u001b[1;34m(self, *choices)\u001b[0m\n\u001b[0;32m    623\u001b[0m \u001b[1;33m\u001b[0m\u001b[0m\n\u001b[0;32m    624\u001b[0m         \"\"\"\n\u001b[1;32m--> 625\u001b[1;33m         \u001b[1;32mreturn\u001b[0m \u001b[0mself\u001b[0m\u001b[1;33m.\u001b[0m\u001b[0m_choose\u001b[0m\u001b[1;33m(\u001b[0m\u001b[0mchoices\u001b[0m\u001b[1;33m,\u001b[0m \u001b[1;32mFalse\u001b[0m\u001b[1;33m)\u001b[0m\u001b[1;33m\u001b[0m\u001b[1;33m\u001b[0m\u001b[0m\n\u001b[0m\u001b[0;32m    626\u001b[0m \u001b[1;33m\u001b[0m\u001b[0m\n\u001b[0;32m    627\u001b[0m     \u001b[1;32mdef\u001b[0m \u001b[0mchoose2\u001b[0m\u001b[1;33m(\u001b[0m\u001b[0mself\u001b[0m\u001b[1;33m,\u001b[0m \u001b[1;33m*\u001b[0m\u001b[0mchoices\u001b[0m\u001b[1;33m)\u001b[0m\u001b[1;33m:\u001b[0m\u001b[1;33m\u001b[0m\u001b[1;33m\u001b[0m\u001b[0m\n",
      "\u001b[1;32m~\\anaconda3\\lib\\site-packages\\pyibl.py\u001b[0m in \u001b[0;36m_choose\u001b[1;34m(self, choices, include_retrieval_probabilities)\u001b[0m\n\u001b[0;32m    720\u001b[0m                                 \u001b[0mself\u001b[0m\u001b[1;33m.\u001b[0m\u001b[0m_at_time\u001b[0m\u001b[1;33m(\u001b[0m\u001b[1;36m0\u001b[0m\u001b[1;33m,\u001b[0m \u001b[1;32mlambda\u001b[0m\u001b[1;33m:\u001b[0m \u001b[0mself\u001b[0m\u001b[1;33m.\u001b[0m\u001b[0m_memory\u001b[0m\u001b[1;33m.\u001b[0m\u001b[0mlearn\u001b[0m\u001b[1;33m(\u001b[0m\u001b[0m_utility\u001b[0m\u001b[1;33m=\u001b[0m\u001b[0mu\u001b[0m\u001b[1;33m,\u001b[0m \u001b[1;33m**\u001b[0m\u001b[0mq\u001b[0m\u001b[1;33m)\u001b[0m\u001b[1;33m)\u001b[0m\u001b[1;33m\u001b[0m\u001b[1;33m\u001b[0m\u001b[0m\n\u001b[0;32m    721\u001b[0m                         \u001b[1;32melse\u001b[0m\u001b[1;33m:\u001b[0m\u001b[1;33m\u001b[0m\u001b[1;33m\u001b[0m\u001b[0m\n\u001b[1;32m--> 722\u001b[1;33m                             \u001b[1;32mraise\u001b[0m \u001b[0mRuntimeError\u001b[0m\u001b[1;33m(\u001b[0m\u001b[1;34mf\"No experience available for choice {c}\"\u001b[0m\u001b[1;33m)\u001b[0m\u001b[1;33m\u001b[0m\u001b[1;33m\u001b[0m\u001b[0m\n\u001b[0m\u001b[0;32m    723\u001b[0m                     \u001b[0mutilities\u001b[0m\u001b[1;33m.\u001b[0m\u001b[0mappend\u001b[0m\u001b[1;33m(\u001b[0m\u001b[0mu\u001b[0m\u001b[1;33m)\u001b[0m\u001b[1;33m\u001b[0m\u001b[1;33m\u001b[0m\u001b[0m\n\u001b[0;32m    724\u001b[0m                     \u001b[1;32mif\u001b[0m \u001b[0minclude_retrieval_probabilities\u001b[0m\u001b[1;33m:\u001b[0m\u001b[1;33m\u001b[0m\u001b[1;33m\u001b[0m\u001b[0m\n",
      "\u001b[1;31mRuntimeError\u001b[0m: No experience available for choice [0, True, 'Solaris', ('25/tcp', '21/tcp', '111/tcp', '135/tcp'), ('smtp', 'ftp', 'rpcbind', 'msrpc'), ('directory_harvest', 'brute_force', 'DDoS_attack', 'DoS_attack')]"
     ]
    }
   ],
   "source": [
    "choice=a.choose(system_situation[0],system_situation[1],system_situation[2],system_situation[3],\n",
    "                            system_situation[4],system_situation[5],system_situation[6],system_situation[7],\n",
    "                            system_situation[8],system_situation[9],system_situation[10],system_situation[11],\n",
    "                            system_situation[12],system_situation[13],system_situation[14],system_situation[15],\n",
    "                            system_situation[16],system_situation[17],system_situation[18],system_situation[19],\n",
    "                            system_situation[20],system_situation[21],system_situation[22],system_situation[23],\n",
    "                            system_situation[24],system_situation[25],system_situation[26],system_situation[27],\n",
    "                            system_situation[28],system_situation[29],system_situation[30],system_situation[31],\n",
    "                            system_situation[32],system_situation[33],system_situation[34],system_situation[35],\n",
    "                            system_situation[36],system_situation[37],system_situation[38],system_situation[39])"
   ]
  },
  {
   "cell_type": "code",
   "execution_count": null,
   "id": "4510cf94",
   "metadata": {},
   "outputs": [],
   "source": []
  },
  {
   "cell_type": "code",
   "execution_count": null,
   "id": "8d8d966d",
   "metadata": {},
   "outputs": [],
   "source": []
  },
  {
   "cell_type": "code",
   "execution_count": null,
   "id": "e4d292b1",
   "metadata": {},
   "outputs": [],
   "source": []
  },
  {
   "cell_type": "code",
   "execution_count": null,
   "id": "ecbd5ab2",
   "metadata": {},
   "outputs": [],
   "source": []
  },
  {
   "cell_type": "code",
   "execution_count": null,
   "id": "dedc1ce9",
   "metadata": {},
   "outputs": [],
   "source": []
  },
  {
   "cell_type": "code",
   "execution_count": null,
   "id": "e32de88e",
   "metadata": {},
   "outputs": [],
   "source": []
  },
  {
   "cell_type": "code",
   "execution_count": null,
   "id": "42e5821d",
   "metadata": {},
   "outputs": [],
   "source": []
  },
  {
   "cell_type": "code",
   "execution_count": null,
   "id": "00bbde82",
   "metadata": {},
   "outputs": [],
   "source": []
  },
  {
   "cell_type": "code",
   "execution_count": null,
   "id": "187973bd",
   "metadata": {},
   "outputs": [],
   "source": []
  },
  {
   "cell_type": "code",
   "execution_count": null,
   "id": "cfad05be",
   "metadata": {},
   "outputs": [],
   "source": [
    "score=score/len(users) #taking the average score of all the users in the simulation\n",
    "simulation_score[i]=score"
   ]
  },
  {
   "cell_type": "code",
   "execution_count": null,
   "id": "184dc439",
   "metadata": {},
   "outputs": [],
   "source": []
  },
  {
   "cell_type": "code",
   "execution_count": null,
   "id": "49d90d76",
   "metadata": {},
   "outputs": [],
   "source": []
  },
  {
   "cell_type": "code",
   "execution_count": null,
   "id": "fec758f6",
   "metadata": {},
   "outputs": [],
   "source": []
  },
  {
   "cell_type": "code",
   "execution_count": null,
   "id": "f3fddc2c",
   "metadata": {},
   "outputs": [],
   "source": []
  },
  {
   "cell_type": "code",
   "execution_count": null,
   "id": "0a9ecafb",
   "metadata": {},
   "outputs": [],
   "source": []
  },
  {
   "cell_type": "code",
   "execution_count": null,
   "id": "d68e473c",
   "metadata": {},
   "outputs": [],
   "source": []
  },
  {
   "cell_type": "code",
   "execution_count": null,
   "id": "7577bc3c",
   "metadata": {},
   "outputs": [],
   "source": []
  },
  {
   "cell_type": "code",
   "execution_count": null,
   "id": "85c79f45",
   "metadata": {},
   "outputs": [],
   "source": []
  },
  {
   "cell_type": "code",
   "execution_count": null,
   "id": "d25079c1",
   "metadata": {},
   "outputs": [],
   "source": []
  },
  {
   "cell_type": "code",
   "execution_count": null,
   "id": "7e0d135f",
   "metadata": {},
   "outputs": [],
   "source": []
  },
  {
   "cell_type": "code",
   "execution_count": null,
   "id": "5e708d28",
   "metadata": {
    "scrolled": false
   },
   "outputs": [],
   "source": []
  },
  {
   "cell_type": "code",
   "execution_count": null,
   "id": "11855e62",
   "metadata": {},
   "outputs": [],
   "source": []
  },
  {
   "cell_type": "code",
   "execution_count": null,
   "id": "08fae851",
   "metadata": {},
   "outputs": [],
   "source": []
  },
  {
   "cell_type": "code",
   "execution_count": null,
   "id": "927ec3f7",
   "metadata": {},
   "outputs": [],
   "source": []
  },
  {
   "cell_type": "code",
   "execution_count": null,
   "id": "c79122fb",
   "metadata": {},
   "outputs": [],
   "source": []
  },
  {
   "cell_type": "code",
   "execution_count": null,
   "id": "b31a181f",
   "metadata": {},
   "outputs": [],
   "source": []
  }
 ],
 "metadata": {
  "kernelspec": {
   "display_name": "Python 3",
   "language": "python",
   "name": "python3"
  },
  "language_info": {
   "codemirror_mode": {
    "name": "ipython",
    "version": 3
   },
   "file_extension": ".py",
   "mimetype": "text/x-python",
   "name": "python",
   "nbconvert_exporter": "python",
   "pygments_lexer": "ipython3",
   "version": "3.8.8"
  }
 },
 "nbformat": 4,
 "nbformat_minor": 5
}
